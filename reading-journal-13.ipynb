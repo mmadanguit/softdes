{
 "cells": [
  {
   "cell_type": "markdown",
   "metadata": {},
   "source": [
    "# Day 13 Reading Journal\n",
    "\n",
    "Reading: \n",
    " - [How to Write a Git Commit Message](https://chris.beams.io/posts/git-commit/)\n",
    " - [Check In Early, Check In Often](https://blog.codinghorror.com/check-in-early-check-in-often/)"
   ]
  },
  {
   "cell_type": "markdown",
   "metadata": {},
   "source": [
    "## [How to Write a Git Commit Message](https://chris.beams.io/posts/git-commit/)\n",
    "\n",
    "### Exercise\n",
    "\n",
    "Choose a commit message from one of your past mini-projects (run `git log` from within the repository to see your history). Paste the commit message below (it doesn't have to be a great one, and in fact it's probably better if it has room for improvement):\n"
   ]
  },
  {
   "cell_type": "markdown",
   "metadata": {},
   "source": [
    "Completed mini project"
   ]
  },
  {
   "cell_type": "markdown",
   "metadata": {},
   "source": [
    "Using the \"seven rules of a great Git commit message\" from the reading, write a more useful version of the original commit message in the box below:"
   ]
  },
  {
   "cell_type": "markdown",
   "metadata": {},
   "source": [
    "Improved commit message:\n",
    "\n",
    "Implement recursive functions and add two extra mathematical functions\n",
    "\n",
    "Both build_random_function() and evaluate_random_function() have been implemented recursively. I also added two extra mathematical functions: x^2 and x^3."
   ]
  },
  {
   "cell_type": "markdown",
   "metadata": {},
   "source": [
    "## [Check In Early, Check In Often](https://blog.codinghorror.com/check-in-early-check-in-often/)\n",
    "\n",
    "### Exercise\n",
    "\n",
    "What are the benefits of checking in code more often? Are there any drawbacks? Explain below."
   ]
  },
  {
   "cell_type": "markdown",
   "metadata": {},
   "source": [
    "By checking in code more often, you are giving yourself more opportunities to receive feedback and to ensure that you are on the same page with whoever you're working with / for. I suppose the only drawback of this is having to get over the mental hurdle that is showing someone your incomplete thoughts but the benefits seem worth it. "
   ]
  }
 ],
 "metadata": {
  "kernelspec": {
   "display_name": "Python 3",
   "language": "python",
   "name": "python3"
  },
  "language_info": {
   "codemirror_mode": {
    "name": "ipython",
    "version": 3
   },
   "file_extension": ".py",
   "mimetype": "text/x-python",
   "name": "python",
   "nbconvert_exporter": "python",
   "pygments_lexer": "ipython3",
   "version": "3.6.9"
  }
 },
 "nbformat": 4,
 "nbformat_minor": 1
}
