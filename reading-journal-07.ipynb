{
 "cells": [
  {
   "cell_type": "markdown",
   "metadata": {},
   "source": [
    "# Reading Journal 7\n",
    "\n",
    "Reading: \n",
    " - *Think Python*, [Chapter 11.1-11.5](http://www.greenteapress.com/thinkpython/html/thinkpython012.html), [Chapter 12.1-12.7](http://www.greenteapress.com/thinkpython2/html/thinkpython2013.html)\n",
    " - [5 Whys](https://en.wikipedia.org/wiki/5_Whys), Introduction and Examples; and [An Introduction to 5-why](http://www.bulsuk.com/2009/03/5-why-finding-root-causes.html)"
   ]
  },
  {
   "cell_type": "markdown",
   "metadata": {},
   "source": [
    "## [Chapter 11](http://www.greenteapress.com/thinkpython/html/thinkpython012.html)\n"
   ]
  },
  {
   "cell_type": "markdown",
   "metadata": {},
   "source": [
    "**Quick check:** In about one sentence using your own words, what is a dictionary?"
   ]
  },
  {
   "cell_type": "markdown",
   "metadata": {},
   "source": [
    "A dictionary is a data type that stores a set of keys and a corresponding set of values."
   ]
  },
  {
   "cell_type": "markdown",
   "metadata": {},
   "source": [
    " ### Exercise 11.2  \n",
    "\n",
    "Dictionaries have a method called [`get`](https://docs.python.org/3/library/stdtypes.html#mapping-types-dict) that takes a key and a default value. If the key appears in the dictionary, `get` returns the corresponding value; otherwise it returns the default value. For example:\n",
    "\n",
    "```\n",
    ">>> h = histogram('a')\n",
    ">>> print(h)\n",
    "{'a': 1}\n",
    ">>> h.get('a', 0)\n",
    "1\n",
    ">>> h.get('b', 0)\n",
    "0\n",
    "```\n",
    "\n",
    "Use `get` to rewrite the `histogram` function below more concisely. You should be able to eliminate the `if` statement. Add unit tests (docstring examples) for your histogram implementation."
   ]
  },
  {
   "cell_type": "code",
   "execution_count": 1,
   "metadata": {},
   "outputs": [
    {
     "name": "stdout",
     "output_type": "stream",
     "text": [
      "Finding tests in NoName\n",
      "Trying:\n",
      "    histogram('apple')\n",
      "Expecting:\n",
      "    {'a': 1, 'p': 2, 'l': 1, 'e': 1}\n",
      "ok\n",
      "Trying:\n",
      "    histogram('occurrences')\n",
      "Expecting:\n",
      "    {'o': 1, 'c': 3, 'u': 1, 'r': 2, 'e': 2, 'n': 1, 's': 1}\n",
      "ok\n"
     ]
    }
   ],
   "source": [
    "import doctest\n",
    "\n",
    "def histogram(s):\n",
    "    \"\"\"Return a dictionary that counts occurrences of each character in s.\n",
    "    \n",
    "    Examples:\n",
    "    >>> histogram('apple')\n",
    "    {'a': 1, 'p': 2, 'l': 1, 'e': 1}\n",
    "    >>> histogram('occurrences')\n",
    "    {'o': 1, 'c': 3, 'u': 1, 'r': 2, 'e': 2, 'n': 1, 's': 1}\n",
    "    \"\"\"\n",
    "    d = dict()\n",
    "    for c in s:\n",
    "        d[c] = d.get(c, 0) + 1\n",
    "    return d\n",
    "\n",
    "doctest.run_docstring_examples(histogram, globals(), verbose=True)"
   ]
  },
  {
   "cell_type": "markdown",
   "metadata": {},
   "source": [
    " "
   ]
  },
  {
   "cell_type": "markdown",
   "metadata": {
    "is_question": true,
    "problem": "Exercise 11.4"
   },
   "source": [
    "### Exercise 11.4  \n",
    "\n",
    "Modify `reverse_lookup` so that it builds and returns a list of all keys that map to `v`, or an empty list if there are none. Add unit tests for your implementation."
   ]
  },
  {
   "cell_type": "code",
   "execution_count": 2,
   "metadata": {
    "solution": "Exercise 11.4"
   },
   "outputs": [
    {
     "name": "stdout",
     "output_type": "stream",
     "text": [
      "Finding tests in NoName\n",
      "Trying:\n",
      "    reverse_lookup(histogram('apple'), 2)\n",
      "Expecting:\n",
      "    ['p']\n",
      "ok\n",
      "Trying:\n",
      "    reverse_lookup(histogram('apple'), 1)\n",
      "Expecting:\n",
      "    ['a', 'l', 'e']\n",
      "ok\n"
     ]
    }
   ],
   "source": [
    "def reverse_lookup(d, v):\n",
    "    \"\"\"Returns a list of all keys in the dictionary that map to v or an empty list if there are none\n",
    "    \n",
    "    Examples:\n",
    "    >>> reverse_lookup(histogram('apple'), 2)\n",
    "    ['p']\n",
    "    >>> reverse_lookup(histogram('apple'), 1)\n",
    "    ['a', 'l', 'e']\n",
    "    \"\"\"\n",
    "    t = []\n",
    "    for k in d:\n",
    "        if d[k] == v:\n",
    "            t.append(k)\n",
    "    return t\n",
    "\n",
    "doctest.run_docstring_examples(reverse_lookup, globals(), verbose=True)"
   ]
  },
  {
   "cell_type": "markdown",
   "metadata": {},
   "source": [
    "If you'd like to learn more about errors and exceptions, you can check out the [Python tutorial](https://docs.python.org/3/tutorial/errors.html) or read ahead to [Appendix A](http://www.greenteapress.com/thinkpython2/html/thinkpython2021.html) of Think Python. If you choose to use doctest for your unit testing, it can also [deal with exceptions](https://docs.python.org/3/library/doctest.html#what-about-exceptions)."
   ]
  },
  {
   "cell_type": "markdown",
   "metadata": {},
   "source": [
    "**Quick check** What type of objects can be used as keys to a dictionary, i.e. what property must they have?"
   ]
  },
  {
   "cell_type": "markdown",
   "metadata": {},
   "source": [
    "All keys must be immutable. If they keys are mutable, like lists, bad things happen and the dictionary doesn't work correctly."
   ]
  },
  {
   "cell_type": "markdown",
   "metadata": {},
   "source": [
    "## [Chapter 12](http://www.greenteapress.com/thinkpython2/html/thinkpython2013.html)\n",
    "\n",
    "**Quick check:** In about one sentence using your own words, what is a tuple?"
   ]
  },
  {
   "cell_type": "markdown",
   "metadata": {},
   "source": [
    "A tuple is like a list but immutable. "
   ]
  },
  {
   "cell_type": "markdown",
   "metadata": {
    "is_question": true,
    "problem": "Exercise 12.1"
   },
   "source": [
    "### Chapter 12.4  \n",
    "\n",
    "Many of the built-in functions use variable-length argument tuples. For example, `max` and `min` can take any number of arguments:\n",
    "\n",
    "```\n",
    ">>> max(1,2,3)\n",
    "3\n",
    "```\n",
    "\n",
    "But `sum` does not.\n",
    "\n",
    "```\n",
    ">>> sum(1, 2, 3)\n",
    "TypeError: sum expected at most 2 arguments, got 3\n",
    "```\n",
    "\n",
    "Write a function called ```sumall``` that takes any number of arguments and returns their sum. \n",
    "\n",
    "Write unit tests for your function. Do I actually need to keep saying this? Let's assume it's always a good idea :)"
   ]
  },
  {
   "cell_type": "code",
   "execution_count": 3,
   "metadata": {
    "solution": "Exercise 12.1"
   },
   "outputs": [
    {
     "name": "stdout",
     "output_type": "stream",
     "text": [
      "Finding tests in NoName\n",
      "Trying:\n",
      "    sumall(1,2,3)\n",
      "Expecting:\n",
      "    6\n",
      "ok\n"
     ]
    }
   ],
   "source": [
    "def sumall(*args):\n",
    "    \"\"\"Returns the sum of the arguments\n",
    "    \n",
    "    Examples\n",
    "    >>> sumall(1,2,3)\n",
    "    6\n",
    "    \"\"\"\n",
    "    sum = 0\n",
    "    for i in args:\n",
    "        sum += i\n",
    "    return sum\n",
    "\n",
    "doctest.run_docstring_examples(sumall, globals(), verbose=True)"
   ]
  },
  {
   "cell_type": "markdown",
   "metadata": {},
   "source": [
    "If you're interested in more flexible ways to pass arguments to functions, check out the [Python tutorial](https://docs.python.org/3/tutorial/controlflow.html#more-on-defining-functions). For instance, you can also use keyword arguments, which are collected into a dictionary just like `*` gathers variable numbers of positional arguments into a tuple.\n",
    "\n",
    "This pattern is very common for defining functions with complex optional behaviors in Python, and you will often see definitions like:\n",
    "\n",
    "```python\n",
    "def my_func(required_argument1, *arguments, **keywords):\n",
    "    ...\n",
    "```"
   ]
  },
  {
   "cell_type": "markdown",
   "metadata": {},
   "source": [
    "**Quick check** Give an example of when you might use each sequence type:\n",
    "\n",
    "- tuple\n",
    "\n",
    "- list\n",
    "\n",
    "- string"
   ]
  },
  {
   "cell_type": "markdown",
   "metadata": {},
   "source": [
    "A string is an immutable sequence of characters. It is the most limited of the three sequence types. If you want to be able to change the characters in the string, you can use a list of characters as lists are mutable. While lists are generally more common than tuples, tuples can be useful if you want to use a sequence as a dictionary key as they are immutable. "
   ]
  },
  {
   "cell_type": "markdown",
   "metadata": {
    "is_question": true,
    "problem": "Exercise 12.3"
   },
   "source": [
    "### Exercise 12.1 \n",
    "\n",
    "Write a function called `most_frequent` that takes a string and prints the letters in decreasing order of frequency. Find text samples from several different languages and see how letter frequency varies between languages. Compare your results with the tables at http://en.wikipedia.org/wiki/Letter_frequencies. \n",
    "\n",
    "Allen's solution (try it on your own first): http://greenteapress.com/thinkpython2/code/most_frequent.py. "
   ]
  },
  {
   "cell_type": "code",
   "execution_count": 14,
   "metadata": {
    "solution": "Exercise 12.3"
   },
   "outputs": [],
   "source": [
    "def most_frequent(s):\n",
    "    \"\"\"Prints the letters of a string in decreasing order of frequency\n",
    "    \n",
    "    s: string\n",
    "    \n",
    "    Returns: list of letters\n",
    "    \"\"\"\n",
    "    # s_no_spaces = s.replace(' ','')\n",
    "    # s_no_periods = s_no_spaces.replace('.','')\n",
    "    # s_lower = s_no_periods.lower()\n",
    "    \n",
    "    x = ''.join(x for x in s if x.isalnum())\n",
    "\n",
    "    t = sorted(histogram(x.lower()).items(), key=lambda item:item[1], reverse=True)\n",
    "    \n",
    "    for letter, frequency in t:\n",
    "        print(letter, frequency)"
   ]
  },
  {
   "cell_type": "code",
   "execution_count": 15,
   "metadata": {},
   "outputs": [
    {
     "name": "stdout",
     "output_type": "stream",
     "text": [
      "e 61\n",
      "n 41\n",
      "i 35\n",
      "a 33\n",
      "s 33\n",
      "o 29\n",
      "t 25\n",
      "l 20\n",
      "h 18\n",
      "d 18\n",
      "r 17\n",
      "c 16\n",
      "u 14\n",
      "f 13\n",
      "m 11\n",
      "v 9\n",
      "w 7\n",
      "b 7\n",
      "p 6\n",
      "g 6\n",
      "y 5\n",
      "x 2\n",
      "k 2\n",
      "j 1\n"
     ]
    }
   ],
   "source": [
    "sample = 'Why painful the sixteen how minuter looking nor. Subject but why ten earnest husband imagine sixteen brandon. Are unpleasing occasional celebrated motionless unaffected conviction out. Evil make to no five they. Stuff at avoid of sense small fully it whose an. Ten scarcely distance moreover handsome age although. As when have find fine or said no mile. He in dispatched in imprudence dissimilar be possession unreserved insensible. She evil face fine calm have now. Separate screened he outweigh of distance landlord.' \n",
    "\n",
    "most_frequent(sample)"
   ]
  },
  {
   "cell_type": "markdown",
   "metadata": {},
   "source": [
    "## 5 Whys\n",
    "\n",
    "1. Read the [5 Whys](https://en.wikipedia.org/wiki/5_Whys), introduction and Examples.\n",
    "2. Read [An Introduction to 5-why](http://www.bulsuk.com/2009/03/5-why-finding-root-causes.html).\n",
    "3. In the space below, describe a problem you've observed or encountered outside of this class, and take it to at least two levels of why. This can be a problem that you've run into personally, or a \"broken process\" in a institution you're a part of or interact with."
   ]
  },
  {
   "cell_type": "markdown",
   "metadata": {},
   "source": [
    "Problem: I'm always late to class\n",
    "1. Why? - I leave my room late\n",
    "2. Why? - I underestimate the amount of time it takes to get ready"
   ]
  }
 ],
 "metadata": {
  "celltoolbar": "Visualize",
  "kernelspec": {
   "display_name": "Python 3",
   "language": "python",
   "name": "python3"
  },
  "language_info": {
   "codemirror_mode": {
    "name": "ipython",
    "version": 3
   },
   "file_extension": ".py",
   "mimetype": "text/x-python",
   "name": "python",
   "nbconvert_exporter": "python",
   "pygments_lexer": "ipython3",
   "version": "3.6.9"
  }
 },
 "nbformat": 4,
 "nbformat_minor": 1
}
