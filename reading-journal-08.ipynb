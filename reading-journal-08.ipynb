{
 "cells": [
  {
   "cell_type": "markdown",
   "metadata": {},
   "source": [
    "# Day 8 Reading Journal\n",
    "\n",
    "Read _Think Python_, [Chapter 9](http://greenteapress.com/thinkpython2/html/thinkpython2010.html), [13](http://www.greenteapress.com/thinkpython2/html/thinkpython2014.html)"
   ]
  },
  {
   "cell_type": "markdown",
   "metadata": {},
   "source": [
    "## [Chapter 9](http://greenteapress.com/thinkpython2/html/thinkpython2010.html) Case study: word play\n",
    "\n",
    "Download the word list for this chapter from [http://thinkpython2.com/code/words.txt](http://thinkpython2.com/code/words.txt) and save it in your ReadingJournal folder. You can then run the test code below to verify you've got the word list."
   ]
  },
  {
   "cell_type": "code",
   "execution_count": 1,
   "metadata": {},
   "outputs": [
    {
     "name": "stdout",
     "output_type": "stream",
     "text": [
      "Word #0: aa\n",
      "Word #1: aah\n"
     ]
    }
   ],
   "source": [
    "# Quick test: open 'words.txt' in the current folder and print the first couple entries (\"aa\", \"aah\")\n",
    "fp = open(\"words.txt\")\n",
    "for i in range(2):\n",
    "    word = fp.readline().strip()\n",
    "    print(\"Word #{num}:\".format(num=i), word)\n",
    "fp.close()  # Close the file when we're done with it"
   ]
  },
  {
   "cell_type": "markdown",
   "metadata": {},
   "source": [
    "Let's encapsulate this behavior into a helper function to use with the rest of the exercises.\n",
    "\n",
    "In this function we use the Python `with` statement to open the file for us. We'll learn more about exactly what this does when we talk about Exceptions, but for now it's enough to say that it opens the file for us and closes it automatically at the end of the `with` block.\n",
    "\n",
    "If you're interested, you can read more about techniques for [reading and writing files](https://docs.python.org/3/tutorial/inputoutput.html#reading-and-writing-files)."
   ]
  },
  {
   "cell_type": "code",
   "execution_count": 2,
   "metadata": {},
   "outputs": [
    {
     "name": "stdout",
     "output_type": "stream",
     "text": [
      "pythonic\n"
     ]
    }
   ],
   "source": [
    "def get_lines(filename):\n",
    "    \"\"\"\n",
    "    Read all lines from `filename` and return a list of strings, \n",
    "    one per line, with whitespace stripped from the ends.\n",
    "    \"\"\"\n",
    "    lines = []\n",
    "    with open(filename) as fp:\n",
    "        for line in fp:\n",
    "            # Remove whitespace (or do whatever other processing you like)\n",
    "            processed_line = line.strip()\n",
    "            lines.append(processed_line)\n",
    "            \n",
    "    return lines\n",
    "\n",
    "# Test get_lines helper function by reading word list\n",
    "word_list = get_lines(\"words.txt\")\n",
    "print(word_list[78835])"
   ]
  },
  {
   "cell_type": "markdown",
   "metadata": {},
   "source": [
    "### Chapter 9.1\n",
    "\n",
    "Complete the `longer_than` function below and test it by finding long words in the word list."
   ]
  },
  {
   "cell_type": "code",
   "execution_count": 3,
   "metadata": {},
   "outputs": [
    {
     "name": "stdout",
     "output_type": "stream",
     "text": [
      "Finding tests in NoName\n",
      "Trying:\n",
      "    longer_than(\"python\", 15)\n",
      "Expecting:\n",
      "    False\n",
      "ok\n",
      "Trying:\n",
      "    longer_than(\"documentation\", 6)\n",
      "Expecting:\n",
      "    True\n",
      "ok\n"
     ]
    }
   ],
   "source": [
    "def longer_than(word, threshold):\n",
    "    \"\"\"\n",
    "    Return True if 'word' is longer than 'threshold'\n",
    "    \n",
    "    >>> longer_than(\"python\", 15)\n",
    "    False\n",
    "    >>> longer_than(\"documentation\", 6)\n",
    "    True\n",
    "    \"\"\"\n",
    "    return len(word) > threshold\n",
    "\n",
    "import doctest\n",
    "doctest.run_docstring_examples(longer_than, globals(), verbose=True)"
   ]
  },
  {
   "cell_type": "code",
   "execution_count": 4,
   "metadata": {},
   "outputs": [
    {
     "data": {
      "text/plain": [
       "['counterdemonstrations', 'hyperaggressivenesses', 'microminiaturizations']"
      ]
     },
     "execution_count": 4,
     "metadata": {},
     "output_type": "execute_result"
    }
   ],
   "source": [
    "# Look for long words by using your helper function in a list comprehension\n",
    "[ word for word in get_lines(\"words.txt\") if longer_than(word, 20) ]"
   ]
  },
  {
   "cell_type": "markdown",
   "metadata": {},
   "source": [
    "### Chapter 9.4\n",
    "\n",
    "Write a function named `uses_only` that takes a word and a string of letters, and that returns `True` if the word contains only letters in the allowed string. Can you make a sentence using only the letters \"acefhlo\"? Other than “Hoe alfalfa?”\n",
    "\n",
    "_Note_: If you're stuck you may want to try Exercise 2 first."
   ]
  },
  {
   "cell_type": "code",
   "execution_count": 5,
   "metadata": {},
   "outputs": [
    {
     "name": "stdout",
     "output_type": "stream",
     "text": [
      "Finding tests in NoName\n",
      "Trying:\n",
      "    uses_only(\"software\", \"code\")\n",
      "Expecting:\n",
      "    False\n",
      "ok\n",
      "Trying:\n",
      "    uses_only(\"banana\", \"ban\")\n",
      "Expecting:\n",
      "    True\n",
      "ok\n"
     ]
    }
   ],
   "source": [
    "def uses_only(word, allowed):\n",
    "    \"\"\"\n",
    "    Return True if 'word' contains only letters in 'allowed' string, False otherwise.\n",
    "    \n",
    "    >>> uses_only(\"software\", \"code\")\n",
    "    False\n",
    "    >>> uses_only(\"banana\", \"ban\")\n",
    "    True\n",
    "    \"\"\"\n",
    "    for letter in word:\n",
    "        if letter not in allowed:\n",
    "            return False\n",
    "    return True\n",
    "\n",
    "doctest.run_docstring_examples(uses_only, globals(), verbose=True)"
   ]
  },
  {
   "cell_type": "markdown",
   "metadata": {},
   "source": [
    "### Chapter 9.7\n",
    "\n",
    "This question is based on a Puzzler that was broadcast on the radio program [Car Talk](http://www.cartalk.com/content/puzzlers):\n",
    "\n",
    "> Give me a word with three consecutive double letters. I’ll give you a couple of words that almost qualify, but don’t. For example, the word committee, c-o-m-m-i-t-t-e-e. It would be great except for the ‘i’ that sneaks in there. Or Mississippi: M-i-s-s-i-s-s-i-p-p-i. If you could take out those i’s it would work. But there is a word that has three consecutive pairs of letters and to the best of my knowledge this may be the only word. Of course there are probably 500 more but I can only think of one. What is the word? \n",
    "\n",
    "Write a program to find it. Try on your own, but if you get stuck you can review Allen's solution: http://thinkpython2.com/code/cartalk1.py."
   ]
  },
  {
   "cell_type": "code",
   "execution_count": 6,
   "metadata": {},
   "outputs": [
    {
     "data": {
      "text/plain": [
       "['bookkeeper', 'bookkeepers', 'bookkeeping', 'bookkeepings']"
      ]
     },
     "execution_count": 6,
     "metadata": {},
     "output_type": "execute_result"
    }
   ],
   "source": [
    "\"\"\"This was my original solution\"\"\"\n",
    "\n",
    "def find_doubles(word):\n",
    "    \"\"\"Returns list of letter indices with double letters.\n",
    "    \n",
    "    word: string\n",
    "    \"\"\"\n",
    "    indices = []\n",
    "    previous = word[0]\n",
    "    index = 1\n",
    "    for letter in word[index:]:\n",
    "        if letter == previous:\n",
    "            indices.append(index)\n",
    "        previous = letter\n",
    "        index += 1\n",
    "    return indices\n",
    "\n",
    "def is_triple_double(word):\n",
    "    \"\"\"Returns the word if the word has three consecutive double letters, None otherwise. \n",
    "    \n",
    "    word: string\n",
    "    \"\"\"\n",
    "    if len(word) < 6:\n",
    "        return None\n",
    "    doubles = find_doubles(word)\n",
    "    if doubles == []:\n",
    "        return None\n",
    "    previous = doubles[0]\n",
    "    index = 1\n",
    "    for num in doubles[index:len(doubles)-1]:\n",
    "        if num-2 == previous:\n",
    "            if doubles[index+1]-2 == num:\n",
    "                return word\n",
    "        previous = num\n",
    "        index += 1\n",
    "    return None\n",
    "\n",
    "def find_triple_doubles(t):\n",
    "    \"\"\"Returns words with three consecutive double letters (if any) found in a list.\n",
    "    \n",
    "    t: list of words\n",
    "    \"\"\"\n",
    "    triple_double = []\n",
    "    for word in t:\n",
    "        x = is_triple_double(word)\n",
    "        if x != None:\n",
    "            triple_double.append(x)\n",
    "    return triple_double\n",
    "        \n",
    "word_list = get_lines(\"words.txt\") \n",
    "find_triple_doubles(word_list)"
   ]
  },
  {
   "cell_type": "code",
   "execution_count": 7,
   "metadata": {},
   "outputs": [
    {
     "name": "stdout",
     "output_type": "stream",
     "text": [
      "bookkeeper\n",
      "\n",
      "bookkeepers\n",
      "\n",
      "bookkeeping\n",
      "\n",
      "bookkeepings\n",
      "\n"
     ]
    }
   ],
   "source": [
    "\"\"\"This is Allen's solution\"\"\"\n",
    "\n",
    "def is_triple_double(word):\n",
    "    \"\"\"Tests if a word contains three consecutive double letters.\n",
    "    \n",
    "    word: string\n",
    "\n",
    "    returns: bool\n",
    "    \"\"\"\n",
    "    i = 0\n",
    "    count = 0\n",
    "    while i < len(word)-1:\n",
    "        if word[i] == word[i+1]:\n",
    "            count = count + 1\n",
    "            if count == 3:\n",
    "                return True\n",
    "            i += 2\n",
    "        else:\n",
    "            i += 1\n",
    "            count = 0\n",
    "    return False\n",
    "\n",
    "def find_triple_double():\n",
    "    \"\"\"Reads a word list and prints words with triple double letters.\"\"\"\n",
    "    fin = open('words.txt')\n",
    "    for line in fin:\n",
    "        if is_triple_double(line):\n",
    "            print(line)\n",
    "            \n",
    "find_triple_double()"
   ]
  },
  {
   "cell_type": "markdown",
   "metadata": {},
   "source": [
    "## [Chapter 13](http://www.greenteapress.com/thinkpython2/html/thinkpython2014.html) Case study: data structure selection\n",
    "\n",
    "The content in this chapter will be helpful for the next mini project on text mining. The exercises build on each other and get more interesting as you go. You should complete as many as your time and interest allows, and bookmark the rest to revisit as you work on MP3.\n",
    "\n",
    " - Section 13.3-4 gives a good example of some techniques for working with files, processing text, and doing some simple analysis. \n",
    " - Section 13.8 and the Markov generation in Exercise 8 can be a lot of fun. \n",
    " - Now that you know a wide range of different data structures, Section 13.9 starts to give some guidance for choosing between them\n",
    " - Section 13.10 explains Allen's \"4 r's\" of debugging strategy\n",
    " \n",
    "This chapter is also excellent preparation for the [Word Frequency Analysis Project Toolbox](https://sd19spring.github.io/toolboxes/word-frequency-analysis) if you're looking for a straightforward toolbox to start on."
   ]
  },
  {
   "cell_type": "markdown",
   "metadata": {},
   "source": [
    "### Chapter 13.1\n",
    "\n",
    "Write a function that reads a file and returns its contents split into a list of single word strings. \n",
    "It should break each line into words, strip whitespace and punctuation from the words, and convert them to lowercase.\n",
    "\n",
    "Implementation tips:\n",
    "\n",
    " - Re-use or modify your `get_lines` function\n",
    " - Keep things simple by implementing the transformations step-by-step, possibly using helper functions\n",
    " - Consider using the [string methods](https://docs.python.org/3/library/stdtypes.html#string-methods) `strip`, `replace` and `translate`\n",
    "  ```python\n",
    "  >>> \"banana\".replace('a', 'o')\n",
    "  'bonono'\n",
    "  ```\n",
    " - The string module provides a string named `whitespace`, which contains space, tab, newline, etc., and `punctuation` which contains the punctuation characters.\n",
    " \n",
    "  ```python\n",
    ">>> import string\n",
    ">>> string.punctuation\n",
    "'!\"#$%&'()*+,-./:;<=>?@[\\]^_`{|}~'\n",
    "```"
   ]
  },
  {
   "cell_type": "code",
   "execution_count": 8,
   "metadata": {},
   "outputs": [
    {
     "name": "stdout",
     "output_type": "stream",
     "text": [
      "['lizzo', 'was', 'born', 'melissa', 'viviane', 'jefferson', 'in', 'detroit', 'michigan', 'when', 'she', 'was', 'ten', 'her', 'family', 'relocated', 'to', 'houston', 'texas', 'lizzo', 'started', 'rapping', 'as', 'a', 'teenager', 'in', 'a', 'southwest', 'part', 'of', 'houston', 'known', 'as', 'alief', 'at', 'the', 'age', 'of', '14', 'she', 'formed', 'a', 'musical', 'group', 'called', 'cornrow', 'clique', 'with', 'her', 'friends', 'at', 'this', 'time', 'she', 'acquired', 'the', 'nickname', 'lizzo', 'a', 'variant', 'of', 'lissa', 'inspired', 'by', 'jay', 'z', 's', 'izzo', 'h', 'o', 'v', 'a', 'after', 'graduating', 'from', 'alief', 'elsik', 'high', 'school', 'she', 'studied', 'classical', 'music', 'focusing', 'on', 'flute', 'at', 'the', 'university', 'of', 'houston', 'at', '21', 'after', 'the', 'death', 'of', 'her', 'father', 'she', 'lived', 'out', 'of', 'her', 'car', 'for', 'a', 'year', 'as', 'she', 'tried', 'to', 'break', 'into', 'the', 'music', 'industry', 'she', 'moved', 'to', 'minneapolis', 'minnesota', 'in', '2011']\n"
     ]
    }
   ],
   "source": [
    "import string as s\n",
    "\n",
    "def to_words(filename):\n",
    "    \"\"\"\n",
    "    Reads a file and returns its contents split into a list of single word strings.\n",
    "    Words are lowercase and stripped of whitespace and punctuation. \n",
    "    \"\"\"\n",
    "    lines = []\n",
    "    table = str.maketrans(s.punctuation,32*\" \")\n",
    "    with open(filename) as fp:\n",
    "        for line in fp:\n",
    "            processed_line = line.translate(table).strip().lower()\n",
    "            words = processed_line.split()\n",
    "            lines.extend(words)\n",
    "            \n",
    "    return lines\n",
    "\n",
    "word_list = to_words(\"lizzo.txt\")\n",
    "print(word_list)"
   ]
  },
  {
   "cell_type": "markdown",
   "metadata": {},
   "source": [
    "### Chapter 13.2  \n",
    "\n",
    "Go to [Project Gutenberg](http://gutenberg.org) and download your favorite out-of-copyright book in plain text format.\n",
    "\n",
    "Use your function from the previous exercise to read the book you downloaded and break it into individual words. \n",
    "_Note_: for best results, skip over the header information at the beginning of the file.\n",
    "\n",
    "Write a program that can count the total number of words in the book, and the number of times each word is used.\n",
    "_Hint_: You can use a modified version of your `histogram` function from Reading Journal 7.\n",
    "\n",
    "For fun, try comparing different books by different authors, written in different eras. Which author uses the most extensive vocabulary? "
   ]
  },
  {
   "cell_type": "code",
   "execution_count": 9,
   "metadata": {},
   "outputs": [],
   "source": [
    "def histogram(filename):\n",
    "    \"\"\"Return a dictionary that counts occurrences of each word in a file.\n",
    "    \"\"\"\n",
    "    t = to_words(filename)\n",
    "    d = dict()\n",
    "    for word in t:\n",
    "        d[word] = d.get(word, 0) + 1\n",
    "    return d\n",
    "\n",
    "hist = histogram('prideandprejudice.txt')"
   ]
  },
  {
   "cell_type": "code",
   "execution_count": 10,
   "metadata": {},
   "outputs": [
    {
     "name": "stdout",
     "output_type": "stream",
     "text": [
      "Total number of words: 123339\n",
      "Number of different words: 6278\n"
     ]
    }
   ],
   "source": [
    "def total_words(hist):\n",
    "    return sum(hist.values())\n",
    "\n",
    "def different_words(hist):\n",
    "    return len(hist)\n",
    "\n",
    "print('Total number of words:', total_words(hist))\n",
    "print('Number of different words:', different_words(hist))"
   ]
  },
  {
   "cell_type": "code",
   "execution_count": 19,
   "metadata": {},
   "outputs": [
    {
     "name": "stdout",
     "output_type": "stream",
     "text": [
      "Most common words: ['the', 'to', 'of', 'and', 'her', 'i', 'a', 'in', 'was', 'she', 'that', 'it', 'not', 'you', 'he', 'his', 'be', 'as', 'had', 'for', 'with', 'but', 'is', 'have', 'mr', 'at', 'him', 'my', 'on', 's', 'by', 'elizabeth', 'all', 'they', 'so', 'were', 'which', 'could', 'been', 'from', 'no', 'very', 'what', 'would', 'your', 'me', 'this', 'their', 'them', 'will', 'darcy', 'said', 'such', 'any', 'when', 'an', 'there', 'if', 'do', 'mrs', 'are', 'much', 'am', 'bennet', 'more', 'must', 'bingley', 'one', 'or', 'jane', 'every', 'who', 'miss', 'than', 'did', 'we', 'should', 'know', 'how', 'before', 'herself', 'well', 'though', 'has', 'never', 'soon', 'sister', 'only', 'can', 'other', 'now', 'think', 'some', 'time', 'good', 'might', 'after', 'may', 'wickham', 'lady', 'little', 'own', 'most', 'collins', 'nothing', 'again', 'being', 'then', 'lydia', 'without', 'make', 'shall', 'thing', 'say', 'dear', 'family', 'man', 'room', 'see', 'first', 'day', 'into', 'great', 'too', 'mother', 'ever', 'two', 'father', 'however', 'out', 'young', 'made', 'himself', 'catherine', 'us', 'about', 'give', 'up', 'hope', 'always', 'many', 'last', 'away', 'long', 'letter', 'friend', 'cannot', 'thought', 'house', 'way', 'enough', 'go', 'its', 'replied', 'sure', 'saw', 'felt', 'lizzy', 'manner', 'wish', 'gardiner', 'indeed', 'myself', 'oh', 'till', 'quite', 'come', 'having', 'pleasure', 'where', 'love', 'better', 'over', 'done', 'cried', 'came', 'often', 'really', 'feelings', 'believe', 'longbourn', 'heard', 'like', 'does', 'subject', 'charlotte', 'daughter', 'whom', 'aunt', 'happy', 'even', 'take', 'down', 'sir', 'whole', 'brother', 'less', 'morning', 'perhaps', 'while', 'place', 'sisters', 'ill', 'seen', 'yes', 'let', 'therefore', 'our', 'still', 'nor', 'evening', 'ladies', 'looked', 'netherfield', 'something', 'yet', 'just', 'next', 'certainly', 'happiness', 'here', 'lucas', 'few', 'kitty', 'added', 'told', 'tell', 'half', 'these', 'upon', 'hear', 'moment', 'both', 'towards', 'uncle', 'attention', 'present', 'same', 'opinion', 'home', 'went', 'town', 'speak', 'world', 'found', 'seemed', 'marriage', 'answer', 'left', 'together', 'colonel', 'least', 'character', 'each', 'woman', 'three', 'acquaintance', 'between', 'kind', 'gone', 'either', 'leave', 'because', 'chapter', 'immediately', 'conversation', 'off', 'passed', 'received', 'married', 'part', 'coming', 'since', 'find', 'began', 'knew', 'whose', 'seeing', 'almost', 'far', 'those', 'once', 'affection', 'known', 'party', 'mind', 'life', 'another', 'london', 'going', 'means', 'meryton', 'possible', 'look', 'friends', 'certain', 'body', 'behaviour', 'rather', 'given', 'why', 'others', 'gave', 'whether', 'able', 'side', 'took', 'pemberley', 'pride', 'get', 'continued', 'against', 'visit', 'general', 'person', 'eyes', 'walk', 'reason', 'daughters', 'return', 'husband', 'people', 'yourself', 'word', 'idea', 'cousin', 'regard', 'settled', 'gentleman', 'object', 'suppose', 'perfectly', 'rosings', 'wife', 'course', 'ought', 'william', 'heart', 'hardly', 'point', 'returned', 'girls', 'business', 'agreeable', 'manners', 'scarcely', 'want', 'impossible', 'walked', 'longer', 'expected', 'spoke', 'turned', 'short', 'carriage', 'best', 'honour', 'else', 'power', 'through', 'civility', 'ladyship', 'marry', 'back', 'read', 'wished', 'called', 'hertfordshire', 'help', 'country', 'dare', 'rest', 'asked', 'convinced', 'fortune', 'likely', 'assure', 'mary', 'pleased', 'sat', 'met', 'spirits', 'talking', 'right', 'forster', 'feel', 'write', 'de', 'bourgh', 'occasion', 'account', 'poor', 'gentlemen', 'talked', 'near', 'engaged', 'girl', 'former', 'sense', 'hour', 'situation', 'night', 'neither', 'stay', 'handsome', 'afraid', 'minutes', 'brought', 'surprise', 'doubt', 'believed', 'sort', 'fitzwilliam', 'glad', 'years', 'mean', 'ball', 'making', 'entered', 'amiable', 'different', 'sometimes', 'table', 'beyond', 'feeling', 'four', 'sorry', 'door', 'dinner', 'care', 'expect', 'saying', 'surprised', 'invitation', 'thousand', 'men', 'advantage', 'within', 'deal', 'also', 'wonder', 'silence', 'satisfied', 'head', 'answered', 'farther', 'wishes', 'usual', 'name', 'five', 'themselves', 'consider', 'merely', 'ten', 'looking', 'hurst', 'speaking', 'particularly', 'philips', 'under', 'appearance', 'fine', 'talk', 'determined', 'news', 'sensible', 'dance', 'ask', 'afterwards', 'consequence', 'appeared', 'case', 'society', 'length', 'whatever', 'taken', 'end', 'meet', 'days', 'necessary', 'put', 'real', 'allow', 'officers', 'instantly', 'comfort', 'appear', 'resolved', 'respect', 'mention', 'understand', 'astonishment', 'arrival', 'countenance', 'air', 'set', 'alone', 'equal', 'things', 'words', 'exactly', 'neighbourhood', 'week', 'year', 'kindness', 'matter', 'obliged', 'younger', 'opportunity', 'thus', 'lost', 'smile', 'pain', 'highly', 'meant', 'already', 'early', 'mentioned', 'offer', 'attentions', 'joined', 'receive', 'assured', 'forward', 'call', 'master', 'circumstances', 'truth', 'beauty', 'information', 'hand', 'credit', 'imagine', 'particular', 'during', 'liked', 'importance', 'easily', 'observed', 'attachment', 'hours', 'face', 'knowing', 'exceedingly', 'absence', 'satisfaction', 'money', 'second', 'reply', 'keep', 'walking', 'expressed', 'compliment', 'anxious', 'interest', 'allowed', 'true', 'doing', 'turn', 'silent', 'thoughts', 'pray', 'breakfast', 'supposed', 'concern', 'wholly', 'ago', 'new', 'giving', 'children', 'delight', 'humour', 'temper', 'among', 'library', 'followed', 'admiration', 'disposition', 'got', 'greater', 'entirely', 'bear', 'hunsford', 'persuaded', 'hearing', 'send', 'acquainted', 'easy', 'derbyshire', 'pretty', 'pounds', 'nature', 'self', 'express', 'gratitude', 'attended', 'serious', 'relations', 'stairs', 'probably', 'change', 'living', 'happened', 'son', 'match', 'brighton', 'considered', 'large', 'delighted', 'marrying', 'design', 'depend', 'following', 'sake', 'fortnight', 'hopes', 'fear', 'dislike', 'several', 'remained', 'curiosity', 'spite', 'small', 'question', 'eliza', 'directly', 'degree', 'prevented', 'wanted', 'conduct', 'frequently', 'fixed', 'park', 'thinking', 'desire', 'spent', 'eldest', 'proud', 'company', 'event', 'pleasing', 'praise', 'natural', 'mistaken', 'favour', 'used', 'whenever', 'remember', 'expression', 'attempt', 'favourite', 'regiment', 'seems', 'latter', 'voice', 'except', 'meeting', 'especially', 'terms', 'fair', 'nephew', 'niece', 'live', 'understanding', 'intended', 'promised', 'dancing', 'instead', 'above', 'sitting', 'listened', 'greatest', 'endeavour', 'notice', 'repeated', 'drawing', 'work', 'wrote', 'inclination', 'trouble', 'months', 'journey', 'acknowledged', 'knowledge', 'times', 'morrow', 'excellent', 'equally', 'estate', 'hoped', 'unless', 'maria', 'charming', 'vain', 'forced', 'proper', 'ready', 'affected', 'sent', 'madam', 'engagement', 'particulars', 'receiving', 'none', 'paid', 'chance', 'intelligence', 'delightful', 'women', 'drew', 'join', 'fancy', 'common', 'circumstance', 'address', 'slight', 'success', 'taking', 'connections', 'danger', 'resolution', 'anxiety', 'late', 'comprehend', 'strong', 'thank', 'full', 'need', 'state', 'written', 'street', 'summer', 'cause', 'expectation', 'regret', 'high', 'persuade', 'pleasant', 'report', 'bring', 'book', 'admire', 'nobody', 'superior', 'smiled', 'civil', 'absolutely', 'purpose', 'vanity', 'evident', 'felicity', 'laugh', 'play', 'reached', 'pause', 'avoid', 'opened', 'servant', 'dining', 'scheme', 'motive', 'cold', 'readily', 'leaving', 'health', 'affair', 'concerned', 'weeks', 'parsonage', 'led', 'effect', 'connection', 'capable', 'twenty', 'addressed', 'forget', 'accept', 'sight', 'law', 'angry', 'resentment', 'partner', 'round', 'eye', 'ease', 'perfect', 'likewise', 'removed', 'beg', 'promise', 'light', 'open', 'politeness', 'indifference', 'caroline', 'dearest', 'view', 'enquiries', 'wait', 'proved', 'loss', 'saturday', 'kept', 'affectionate', 'disappointment', 'comes', 'extraordinary', 'ignorant', 'suddenly', 'questions', 'fond', 'step', 'window', 'tolerable', 'advice', 'related', 'chose', 'seem', 'excuse', 'generally', 'composure', 'pass', 'intention', 'companion', 'distance', 'dine', 'miles', 'accepted', 'spoken', 'otherwise', 'tone', 'housekeeper', 'chief', 'formed', 'letters', 'conviction', 'confess', 'pardon', 'indifferent', 'became', 'blame', 'distress', 'prevent', 'scene', 'ashamed', 'objection', 'says', 'use', 'lively', 'fortunate', 'arrived', 'declared', 'sit', 'beautiful', 'worth', 'bad', 'disposed', 'choice', 'age', 'period', 'mine', 'wrong', 'duty', 'winter', 'calling', 'trust', 'prevailed', 'seated', 'justice', 'tried', 'earnest', 'future', 'misery', 'georgiana', 'supposing', 'belief', 'share', 'compassion', 'consideration', 'unable', 'meaning', 'books', 'youngest', 'extremely', 'entrance', 'disagreeable', 'principal', 'creature', 'behind', 'gratified', 'learnt', 'lived', 'struck', 'elegant', 'asking', 'thanks', 'please', 'observation', 'judgment', 'fact', 'respectable', 'greatly', 'influence', 'plan', 'eagerly', 'taste', 'stood', 'considering', 'wishing', 'interesting', 'astonished', 'aware', 'parted', 'alarm', 'picture', 'reading', 'prospect', 'child', 'assurance', 'writing', 'evil', 'kent', 'connected', 'painful', 'deceived', 'looks', 'visitors', 'occurred', 'marked', 'wedding', 'reasonable', 'road', 'servants', 'consent', 'old', 'suffer', 'ideas', 'chuse', 'assistance', 'c', 'danced', 'standing', 'turning', 'twice', 'stranger', 'spend', 'intimate', 'lucases', 'opening', 'form', 'begin', 'conceal', 'tolerably', 'leisure', 'sooner', 'frequent', 'yesterday', 'finding', 'clothes', 'enjoyment', 'possibility', 'worse', 'relief', 'partiality', 'determine', 'comparison', 'ran', 'tea', 'grateful', 'understood', 'eager', 'dared', 'anger', 'interference', 'seriously', 'distressed', 'unhappy', 'recollected', 'single', 'agreed', 'recommend', 'silly', 'observing', 't', 'heaven', 'amusement', 'actually', 'joy', 'favourable', 'grieved', 'occasionally', 'amongst', 'admired', 'accomplished', 'disappointed', 'rank', 'steady', 'yours', 'rich', 'public', 'parties', 'secure', 'approaching', 'hard', 'application', 'request', 'relation', 'hint', 'contempt', 'expressions', 'speech', 'add', 'informed', 'applied', 'music', 'listen', 'judge', 'colour', 'recollection', 'tuesday', 'welcome', 'lately', 'happen', 'lord', 'false', 'hall', 'garden', 'denny', 'generous', 'beginning', 'naturally', 'forgotten', 'shire', 'comfortable', 'constant', 'enter', 'engagements', 'immediate', 'congratulations', 'shortly', 'believing', 'probable', 'ground', 'sentence', 'perceived', 'apprehension', 'bringing', 'courage', 'try', 'views', 'chaise', 'difficult', 'introduce', 'introduction', 'neglect', 'decided', 'noble', 'dances', 'excessively', 'lose', 'compliments', 'private', 'smallest', 'due', 'rendered', 'caught', 'instrument', 'plain', 'passing', 'pay', 'desirable', 'aloud', 'returning', 'required', 'parlour', 'increased', 'wild', 'invited', 'boast', 'besides', 'supper', 'hurry', 'follow', 'run', 'gained', 'earnestly', 'confusion', 'relate', 'bow', 'opposite', 'confidence', 'education', 'moments', 'excited', 'shook', 'delicacy', 'church', 'moreover', 'cousins', 'produced', 'income', 'folly', 'relationship', 'neighbours', 'attached', 'dreadful', 'disgrace', 'necessity', 'satisfy', 'imprudent', 'finished', 'laughing', 'esteem', 'natured', 'wants', 'feared', 'visitor', 'drove', 'objections', 'prejudice', 'flatter', 'preference', 'quick', 'insufficient', 'nieces', 'stand', 'reflection', 'unlucky', 'escape', 'loved', 'consequently', 'fears', 'six', 'pronounced', 'violent', 'smiles', 'difference', 'unwilling', 'rooms', 'attentive', 'contrary', 'bennets', 'listening', 'remarkably', 'forgive', 'probability', 'consolation', 'encouragement', 'undoubtedly', 'partial', 'vexation', 'strange', 'smiling', 'nay', 'learn', 'remain', 'sentiments', 'coach', 'quit', 'past', 'style', 'inclined', 'whisper', 'laughed', 'heartily', 'observe', 'chiefly', 'proposal', 'triumph', 'important', 'overcome', 'shame', 'waiting', 'intimacy', 'running', 'rational', 'staying', 'communication', 'hill', 'prepared', 'furniture', 'lane', 'interruption', 'utmost', 'virtue', 'sincere', 'increasing', 'awkward', 'amazement', 'concluded', 'impatience', 'proceeded', 'endeavoured', 'embarrassment', 'happiest', 'direction', 'elder', 'hurried', 'goodness', 'tears', 'lambton', 'reynolds', 'debts', 'wretched', 'possession', 'entering', 'monday', 'fall', 'lines', 'likes', 'act', 'various', 'assembly', 'admitted', 'introduced', 'hate', 'uncommonly', 'story', 'spirit', 'interrupted', 'friendship', 'highest', 'valuable', 'close', 'lips', 'reflections', 'value', 'guarded', 'itself', 'continue', 'clear', 'refuse', 'moved', 'grave', 'thither', 'offered', 'suspected', 'haste', 'exertion', 'along', 'longed', 'deserve', 'fellow', 'card', 'patience', 'improvement', 'elegance', 'recommended', 'contents', 'become', 'subjects', 'offended', 'directed', 'persons', 'pity', 'repeatedly', 'attending', 'piece', 'month', 'sunday', 'thankful', 'placed', 'considerable', 'threw', 'quarter', 'material', 'wednesday', 'explained', 'honoured', 'parish', 'humble', 'bore', 'authority', 'mistress', 'minute', 'eight', 'force', 'gives', 'imprudence', 'youth', 'knows', 'suspicion', 'console', 'assurances', 'reception', 'rejoiced', 'quitted', 'quietly', 'jenkinson', 'proposals', 'sincerely', 'secrecy', 'seldom', 'gracechurch', 'fresh', 'dressing', 'hastily', 'elopement', 'remembered', 'property', 'nonsense', 'throw', 'mistake', 'employed', 'somebody', 'laid', 'declare', 'neighbour', 'somewhat', 'altogether', 'tall', 'features', 'figure', 'enjoy', 'vexed', 'king', 'protested', 'seek', 'possibly', 'complete', 'gallantry', 'nearly', 'wherever', 'commendation', 'formerly', 'strongly', 'quitting', 'lodge', 'opinions', 'misfortune', 'ma', 'ourselves', 'safe', 'shew', 'perceive', 'discover', 'dined', 'sound', 'acknowledge', 'severe', 'follows', 'impatient', 'indignation', 'notion', 'propriety', 'persuasion', 'deny', 'totally', 'line', 'usually', 'unknown', 'foolish', 'note', 'tête', 'horses', 'uneasy', 'insist', 'alarmed', 'warmth', 'expressing', 'solicitude', 'shewed', 'impertinence', 'low', 'idle', 'advise', 'anybody', 'uncomfortable', 'carried', 'suffered', 'advantages', 'lest', 'apology', 'ordered', 'sudden', 'remarks', 'watching', 'allowing', 'according', 'occasions', 'warmly', 'sacrifice', 'couple', 'chosen', 'balls', 'incapable', 'explanation', 'taught', 'remaining', 'separation', 'wondered', 'addition', 'entail', 'reach', 'memory', 'clergyman', 'prove', 'formal', 'begged', 'abode', 'properly', 'exclaimed', 'interested', 'unexpected', 'officer', 'changed', 'noticed', 'female', 'relieved', 'frightened', 'recollections', 'doubted', 'death', 'matters', 'certainty', 'unpleasant', 'george', 'ignorance', 'sentiment', 'openly', 'reproach', 'conclusion', 'fun', 'spared', 'evils', 'bestowed', 'heightened', 'difficulty', 'encouraged', 'gracious', 'thrown', 'eagerness', 'shocked', 'doors', 'concerns', 'governess', 'arrangement', 'indebted', 'charge', 'behaved', 'drawn', 'scotland', 'families', 'pretend', 'chuses', 'humoured', 'reserve', 'fancied', 'waited', 'selfish', 'teazing', 'deep', 'raptures', 'satisfactory', 'description', 'entertained', 'fashion', 'discovered', 'expectations', 'enquired', 'third', 'gown', 'flattered', 'fault', 'makes', 'habit', 'provided', 'liberty', 'established', 'tempted', 'clever', 'reserved', 'sweet', 'friendly', 'st', 'command', 'drink', 'united', 'cheerfulness', 'guard', 'twelvemonth', 'discovery', 'succeeded', 'wanting', 'order', 'conjecture', 'bestow', 'supply', 'source', 'spare', 'cheerful', 'getting', 'orders', 'complexion', 'treated', 'parting', 'cards', 'renewal', 'coffee', 'thanked', 'suit', 'charles', 'game', 'extent', 'esteemed', 'deserved', 'sex', 'describe', 'service', 'directions', 'removal', 'study', 'mentioning', 'variety', 'differently', 'fast', 'merit', 'approbation', 'schemes', 'domestic', 'profession', 'telling', 'welcomed', 'fire', 'quest', 'affairs', 'completely', 'expose', 'hands', 'circle', 'roused', 'cared', 'uneasiness', 'honourable', 'peace', 'kindly', 'instance', 'objects', 'patroness', 'remarkable', 'condescension', 'arise', 'glance', 'hold', 'weak', 'seeking', 'represented', 'alteration', 'trusted', 'free', 'spot', 'commission', 'civilities', 'resolving', 'approach', 'unreasonable', 'finally', 'eligible', 'assist', 'sixteen', 'truly', 'rising', 'resemblance', 'temptation', 'desirous', 'discourse', 'watched', 'blushed', 'dreaded', 'proof', 'dwelling', 'carriages', 'embarrassed', 'refusal', 'refusing', 'intending', 'parents', 'settle', 'altered', 'hopeless', 'contained', 'disapprobation', 'direct', 'improbable', 'inform', 'falsehood', 'ventured', 'dependence', 'congratulate', 'companions', 'worst', 're', 'staid', 'rose', 'support', 'quiet', 'enquire', 'judged', 'rejoice', 'afford', 'enquiry', 'endeavours', 'concealed', 'impression', 'inn', 'mamma', 'woods', 'north', 'cases', 'establishment', 'earliest', 'contain', 'don', 'aye', 'office', 'agree', 'sick', 'draw', 'closed', 'qualities', 'declined', 'distinguished', 'village', 'raised', 'god', 'shocking', 'conceited', 'breeding', 'human', 'blind', 'hundred', 'purchase', 'county', 'strength', 'continually', 'mile', 'james', 'grew', 'impertinent', 'sees', 'occupied', 'mortifying', 'assembled', 'performance', 'playing', 'instant', 'moving', 'oblige', 'desired', 'matrimony', 'wit', 'entailed', 'shop', 'militia', 'names', 'secret', 'louisa', 'lucky', 'pursuit', 'exercise', 'shewn', 'weather', 'inconvenience', 'bed', 'clock', 'prefer', 'abominable', 'independence', 'larger', 'tables', 'urged', 'miserable', 'accompanied', 'advisable', 'delicate', 'repeating', 'performed', 'reminded', 'recovered', 'amused', 'modesty', 'proceeding', 'denial', 'explain', 'delay', 'weight', 'deference', 'indulgence', 'lead', 'lay', 'charm', 'takes', 'bye', 'professions', 'powers', 'entertainment', 'justify', 'motives', 'presence', 'wisest', 'actions', 'bell', 'softened', 'grounds', 'occasional', 'preparing', 'appearing', 'aspect', 'acceptable', 'invite', 'acted', 'useful', 'fitted', 'across', 'permission', 'corps', 'inquiries', 'windows', 'willing', 'increase', 'employment', 'warm', 'stronger', 'abilities', 'useless', 'accident', 'distressing', 'claims', 'delayed', 'prepare', 'dressed', 'purposely', 'displeasure', 'approached', 'forbearance', 'mortification', 'gratifying', 'trying', 'disdain', 'recollect', 'respects', 'ceased', 'pursue', 'plainly', 'perverseness', 'gradually', 'owed', 'utter', 'addresses', 'encourage', 'fail', 'refused', 'hurt', 'peculiar', 'resigned', 'error', 'voluntarily', 'paper', 'intercourse', 'renewed', 'christmas', 'engaging', 'departure', 'speedily', 'admit', 'alluded', 'abhorrence', 'violently', 'gardiners', 'expence', 'choose', 'tour', 'lakes', 'gate', 'pleasures', 'agitation', 'seat', 'chair', 'collinses', 'travelling', 'fifty', 'accordingly', 'coloured', 'separate', 'improved', 'obligation', 'recover', 'unfortunate', 'river', 'lawn', 'impatiently', 'england', 'grown', 'engage', 'ah', 'odd', 'mixture', 'parts', 'visiting', 'discretion', 'venture', 'stared', 'shut', 'amends', 'distant', 'happily', 'number', 'unaffected', 'disgust', 'punishment', 'withdrew', 'bitterness', 'hasty', 'approve', 'deficient', 'spending', 'deeply', 'offence', 'sufficiently', 'distinction', 'obliging', 'presentation', 'treatment', 'guess', 'mortified', 'complacency', 'imaginary', 'argument', 'arising', 'entertain', 'disadvantage', 'leading', 'unfolded', 'similar', 'defects', 'energy', 'sing', 'song', 'accomplishments', 'mode', 'engrossed', 'conclude', 'inducement', 'complaisance', 'convenient', 'vacant', 'amuse', 'recent', 'visits', 'lodgings', 'opposed', 'quarrel', 'jones', 'trifling', 'created', 'held', 'elsewhere', 'pressing', 'o', 'dress', 'summoned', 'original', 'dish', 'escaped', 'materially', 'below', 'censure', 'afforded', 'benefit', 'finer', 'spring', 'piano', 'forte', 'estimation', 'possess', 'alarming', 'recovering', 'remains', 'confined', 'places', 'thin', 'exposing', 'result', 'adding', 'mend', 'progress', 'curious', 'humility', 'sweetness', 'arguments', 'proceed', 'checked', 'alacrity', 'polite', 'amazed', 'rid', 'provoke', 'guest', 'conceit', 'gallery', 'uncommon', 'advanced', 'steps', 'principally', 'effort', 'example', 'novelty', 'joining', 'requiring', 'method', 'ridicule', 'wise', 'weakness', 'fearful', 'proposed', 'uncivil', 'suggested', 'fish', 'ring', 'dead', 'attempted', 'november', 'solemnity', 'condescended', 'birth', 'fully', 'absurd', 'attend', 'tranquillity', 'ones', 'concerning', 'justified', 'nice', 'mutual', 'attributed', 'whist', 'tempered', 'driven', 'gentle', 'treat', 'assert', 'claim', 'measure', 'borne', 'nearer', 'liberal', 'mere', 'trifle', 'anne', 'insolent', 'enumerating', 'stopped', 'causes', 'actual', 'disgraceful', 'ceremony', 'rate', 'sought', 'arose', 'bingleys', 'solemn', 'refreshment', 'dignity', 'interrupt', 'allusion', 'strike', 'endeavouring', 'reflect', 'forgot', 'steward', 'conscience', 'evidently', 'owe', 'likelihood', 'declaration', 'diffidence', 'reasons', 'melancholy', 'language', 'risk', 'economy', 'attractions', 'suspense', 'uttered', 'vestibule', 'calm', 'discussion', 'putting', 'correspondence', 'insensibility', 'imagined', 'valued', 'offers', 'broken', 'dwelt', 'restraint', 'lover', 'ruin', 'respectability', 'principle', 'repeat', 'crossed', 'relating', 'events', 'adieu', 'mercenary', 'carry', 'pointing', 'pointed', 'trees', 'front', 'letting', 'talents', 'inferior', 'beneath', 'syllable', 'teach', 'produce', 'recollecting', 'visible', 'expecting', 'emotion', 'misfortunes', 'designed', 'indulge', 'nearest', 'described', 'horror', 'sum', 'sides', 'enquiring', 'impropriety', 'post', 'bought', 'papa', 'welfare', 'arisen', 'wood', 'fishing', 'f', 'intreaty', 'philosophy', 'minds', 'affect', 'surely', 'nerves', 'caprice', 'nervous', 'ii', 'assuring', 'mama', 'fatigued', 'iii', 'sufficient', 'coat', 'horse', 'dispatched', 'twelve', 'unworthy', 'compared', 'press', 'stupid', 'kingdom', 'tempt', 'ridiculous', 'pleasantly', 'splendid', 'branch', 'fancying', 'cautious', 'honestly', 'follies', 'converse', 'entitled', 'trade', 'recommendation', 'owner', 'dissatisfied', 'bred', 'pleasanter', 'collection', 'residence', 'solely', 'intelligent', 'ate', 'score', 'boy', 'ended', 'suspicions', 'freely', 'feels', 'simpleton', 'evenings', 'studying', 'grow', 'unlike', 'gravely', 'glancing', 'capital', 'worked', 'display', 'injured', 'higher', 'delightfully', 'cruel', 'imagination', 'furnish', 'visited', 'animation', 'coolly', 'captain', 'carter', 'happens', 'lives', 'à', 'rain', 'contrivance', 'imputed', 'fit', 'die', 'activity', 'proportion', 'repaired', 'dirty', 'divided', 'withheld', 'examined', 'acutely', 'absent', 'unwillingly', 'disliked', 'eat', 'decorum', 'shews', 'excessive', 'somewhere', 'lessen', 'anything', 'beauties', 'buy', 'aside', 'deserves', 'extensive', 'injustice', 'protesting', 'complaints', 'arts', 'decidedly', 'quickly', 'complied', 'necessarily', 'amusing', 'fifteen', 'driving', 'attack', 'slowly', 'infinitely', 'flow', 'reproof', 'rapidity', 'execution', 'representation', 'yield', 'size', 'finish', 'supposition', 'affront', 'shrubbery', 'hints', 'check', 'catch', 'abominably', 'arm', 'path', 'rejoicing', 'salutation', 'obtained', 'rejected', 'begins', 'calmness', 'defy', 'attempting', 'defect', 'disguise', 'faults', 'wilfully', 'tired', 'paying', 'jealousy', 'sorrow', 'wisely', 'careful', 'preceding', 'dropt', 'sly', 'cruelty', 'scruples', 'patronage', 'perform', 'promote', 'blessing', 'reject', 'apologise', 'readiness', 'thinks', 'heavy', 'estates', 'touched', 'owing', 'displeased', 'started', 'witnessed', 'affability', 'experienced', 'quadrille', 'handsomest', 'sickly', 'drive', 'phaeton', 'court', 'born', 'flattering', 'deliberation', 'occur', 'resent', 'assisted', 'forming', 'incumbent', 'contemplation', 'apartment', 'cost', 'grandeur', 'interval', 'season', 'exclaiming', 'history', 'per', 'qualified', 'tender', 'intelligible', 'procured', 'provide', 'extravagance', 'accuse', 'unguarded', 'attribute', 'suspect', 'contented', 'active', 'debt', 'gravity', 'destined', 'won', 'endured', 'behalf', 'imposed', 'confirmation', 'anticipated', 'depended', 'scruple', 'liveliness', 'charms', 'absolute', 'forbid', 'decide', 'resist', 'blessed', 'perceiving', 'forcibly', 'illustration', 'infamous', 'occurrences', 'sincerity', 'freedom', 'fatigue', 'points', 'promising', 'lower', 'comforts', 'depart', 'complain', 'enjoying', 'preserved', 'blush', 'stop', 'unnecessary', 'convince', 'briefly', 'acceptance', 'practice', 'conference', 'headstrong', 'accepting', 'meanwhile', 'warn', 'shewing', 'pretensions', 'introducing', 'delivered', 'keeping', 'foundation', 'unjust', 'thanking', 'encouraging', 'stupidity', 'prospects', 'luck', 'forth', 'cordiality', 'hoping', 'mark', 'sunk', 'announce', 'houses', 'confessed', 'insensible', 'reasonably', 'inconvenient', 'hated', 'lovers', 'luckily', 'sensibility', 'professed', 'sport', 'repine', 'slightly', 'harm', 'instances', 'prudent', 'benefited', 'prudence', 'whilst', 'unlikely', 'unconnected', 'becomes', 'thursday', 'deceive', 'obstinate', 'unwelcome', 'travellers', 'affections', 'amidst', 'affectionately', 'cross', 'situated', 'employments', 'formidable', 'senses', 'examining', 'pale', 'management', 'broke', 'meat', 'designs', 'hastened', 'awakened', 'confused', 'shared', 'strangers', 'symptom', 'occasioned', 'conjectures', 'solitary', 'sole', 'perusal', 'intentions', 'agitated', 'cheeks', 'reduced', 'succeeding', 'unpardonable', 'unequal', 'secured', 'betrayed', 'pains', 'preserve', 'supported', 'younge', 'cherished', 'widely', 'dull', 'flirt', 'husbands', 'gentleness', 'sad', 'extravagant', 'extreme', 'accent', 'abroad', 'carrying', 'valley', 'stream', 'trace', 'lift', 'water', 'attendance', 'clapham', 'infamy', 'killed', 'dread', 'copse', 'humbled', 'newcastle', 'frankness', 'universally', 'settling', 'bit', 'quickness', 'deigned', 'tumult', 'joke', 'ways', 'skill', 'falling', 'planned', 'courses', 'housekeeping', 'disconcerted', 'seven', 'handsomer', 'save', 'unreserved', 'contrast', 'slighted', 'detest', 'insupportable', 'cordial', 'partners', 'inhabitants', 'horrid', 'iv', 'affectation', 'candour', 'calculated', 'educated', 'meanly', 'easiness', 'suited', 'accidental', 'opposition', 'openness', 'reliance', 'haughty', 'inviting', 'formality', 'conceive', 'angel', 'authorised', 'v', 'render', 'communicate', 'robinson', 'overheard', 'answering', 'speaks', 'safely', 'offend', 'relates', 'wine', 'vi', 'intolerable', 'excepting', 'yielding', 'conversing', 'adopt', 'acting', 'represent', 'advance', 'becoming', 'seeming', 'provoking', 'invaluable', 'familiar', 'cool', 'entreaties', 'excellence', 'group', 'bowed', 'paused', 'discomposure', 'entreat', 'noise', 'agreeably', 'meditating', 'rapid', 'vii', 'unfortunately', 'attorney', 'bare', 'contrived', 'quarters', 'regimentals', 'red', 'replying', 'farm', 'oftener', 'acknowledgment', 'intermission', 'dying', 'alternative', 'benevolence', 'impulse', 'field', 'incredible', 'politely', 'silently', 'advised', 'viii', 'retired', 'abusing', 'walker', 'nonsensical', 'hair', 'petticoat', 'exact', 'uncles', 'tenderness', 'poorly', 'reader', 'fetch', 'stationed', 'height', 'list', 'agreeing', 'faithful', 'thorough', 'singing', 'art', 'remark', 'comply', 'ix', 'apparent', 'restoration', 'sweetest', 'gravel', 'characters', 'move', 'genteel', 'whispering', 'x', 'unconcern', 'odious', 'pen', 'contrive', 'defer', 'assume', 'needless', 'intend', 'ride', 'offering', 'ordinary', 'complying', 'comparative', 'resented', 'reprehensible', 'varied', 'despise', 'inferiority', 'jealous', 'recovery', 'alliance', 'tongue', 'bordering', 'propose', 'disengaged', 'wide', 'xi', 'sleep', 'perpetually', 'inquiry', 'volume', 'consult', 'white', 'unconsciously', 'disappointing', 'explaining', 'conscious', 'punish', 'plague', 'dearly', 'examination', 'vouch', 'convenience', 'offences', 'tendency', 'misunderstand', 'xii', 'agreement', 'postscript', 'pressed', 'firm', 'attracted', 'liveliest', 'cordially', 'observations', 'xiii', 'questioned', 'guilt', 'quarrelling', 'breach', 'fearing', 'easter', 'widow', 'lewis', 'preferred', 'overlooked', 'olive', 'hereafter', 'hospitality', 'objecting', 'pompous', 'promises', 'writer', 'punctual', 'stately', 'complimented', 'fallen', 'grievous', 'summons', 'viewing', 'xiv', 'withdrawn', 'preaching', 'approved', 'separated', 'failed', 'ponies', 'unhappily', 'deprived', 'adorned', 'peculiarly', 'previous', 'adapted', 'keenest', 'beholding', 'announced', 'sermons', 'amusements', 'civilly', 'xv', 'belonged', 'prosperity', 'rector', 'suitableness', 'disinterested', 'vary', 'lovely', 'confirmed', 'notions', 'avowal', 'caution', 'wandering', 'bonnet', 'muslin', 'inquire', 'unassuming', 'fix', 'claimed', 'apologising', 'intrusion', 'exclamations', 'unluckily', 'noisy', 'lottery', 'tickets', 'hot', 'xvi', 'steadily', 'suitable', 'proprietor', 'listener', 'mantle', 'sink', 'insignificance', 'intervals', 'abundantly', 'improve', 'unexpectedly', 'drop', 'assertion', 'impartial', 'disgusted', 'regrets', 'scandalous', 'solitude', 'military', 'publicly', 'cruelly', 'competition', 'creatures', 'appears', 'devoted', 'obligations', 'voluntary', 'wonderful', 'consistent', 'powerful', 'existence', 'reputation', 'manage', 'xvii', 'defend', 'hurrying', 'ceremonious', 'mornings', 'selected', 'worthy', 'pitiable', 'xviii', 'conquest', 'significant', 'provoked', 'fret', 'handed', 'striking', 'deeper', 'overspread', 'blaming', 'changing', 'belong', 'scenes', 'judging', 'accounts', 'likeness', 'assertions', 'descent', 'wilful', 'glow', 'defence', 'pleasantness', 'total', 'intreat', 'earlier', 'addressing', 'leads', 'bent', 'composed', 'repetition', 'sensations', 'rewarded', 'composedly', 'pretending', 'diversion', 'patron', 'preferment', 'speeches', 'xix', 'extended', 'regular', 'oppose', 'adds', 'unwillingness', 'respected', 'secondly', 'excite', 'animated', 'violence', 'demand', 'decease', 'uniformly', 'ungenerous', 'secretly', 'portion', 'effects', 'perseverance', 'apply', 'negative', 'successful', 'interview', 'steadfastly', 'regarded', 'attacks', 'determination', 'pitied', 'irritation', 'detained', 'inevitable', 'positive', 'denied', 'objectionable', 'dejection', 'lament', 'envelope', 'sheet', 'distrust', 'reserves', 'willingly', 'succeed', 'hesitate', 'overcame', 'keeps', 'admirable', 'comparatively', 'accidentally', 'continuance', 'wealth', 'boys', 'maid', 'shaken', 'burst', 'offending', 'momentary', 'incredulous', 'overpowered', 'mischief', 'rude', 'spread', 'daily', 'tidings', 'unfeeling', 'require', 'needed', 'punctually', 'consoling', 'vol', 'accomplishment', 'communicated', 'involved', 'died', 'wounded', 'continual', 'colouring', 'privilege', 'universal', 'integrity', 'security', 'thoughtlessness', 'clearly', 'gloom', 'everybody', 'bride', 'presents', 'growing', 'incivility', 'carefully', 'procuring', 'confident', 'remind', 'refrain', 'farewell', 'ungracious', 'pronounce', 'rationally', 'banish', 'review', 'contentment', 'admirer', 'struggles', 'purchased', 'walks', 'learned', 'accompany', 'bidding', 'attach', 'wonders', 'relative', 'northern', 'green', 'article', 'owned', 'building', 'encounter', 'built', 'throughout', 'hesitation', 'middle', 'stopping', 'la', 'constantly', 'ascended', 'witness', 'placing', 'minutely', 'poultry', 'sisterly', 'dignified', 'stating', 'gratefully', 'instructions', 'grove', 'thirty', 'betray', 'considerably', 'fingers', 'applying', 'sinking', 'raising', 'habits', 'divide', 'guardianship', 'hither', 'saved', 'officious', 'condemn', 'measures', 'serenity', 'banished', 'compose', 'avowed', 'incredulity', 'disdained', 'founded', 'recital', 'confession', 'accusations', 'condition', 'reflected', 'pursuing', 'defiance', 'respecting', 'obeyed', 'attentively', 'hesitated', 'induce', 'ramsgate', 'bless', 'err', 'errors', 'vice', 'awkwardness', 'discussed', 'displayed', 'message', 'accounting', 'june', 'slightest', 'urgent', 'curtsey', 'privately', 'grieve', 'signify', 'waiter', 'fool', 'merry', 'afternoon', 'despaired', 'existed', 'collected', 'saving', 'desperate', 'remembrance', 'undeserving', 'lamentations', 'diverted', 'comprehended', 'despised', 'substance', 'camp', 'frivolous', 'awe', 'whence', 'envy', 'overthrown', 'overlook', 'happier', 'quartered', 'later', 'contracted', 'matlock', 'route', 'willingness', 'revived', 'flutter', 'hills', 'descended', 'bridge', 'miniatures', 'army', 'reaching', 'sensation', 'submit', 'lasted', 'faulty', 'guessed', 'obtain', 'discharged', 'annesley', 'resolutely', 'misunderstood', 'thoughtless', 'missed', 'hackney', 'dismissed', 'epsom', 'sources', 'removing', 'presumption', 'paddock', 'faces', 'busily', 'moral', 'pocket', 'gaining', 'expences', 'privileged', 'justly', 'decent', 'nuptials', 'impudence', 'union', 'flight', 'effectually', 'unsettled', 'prodigiously', 'shoot', 'tis', 'surrounding', 'michaelmas', 'tiresome', 'hearty', 'abuse', 'experience', 'uncertain', 'discontented', 'hat', 'resentfully', 'assemblies', 'hypocritical', 'scolding', 'tear', 'pieces', 'cough', 'fretfully', 'circumspection', 'decline', 'exclamation', 'forms', 'extracts', 'sakes', 'm', 'conjecturing', 'determining', 'ingenious', 'wonderfully', 'upper', 'wore', 'blue', 'rode', 'deferred', 'flying', 'quieted', 'consisted', 'circulation', 'tide', 'sharpened', 'overhear', 'fastidious', 'beheld', 'coldly', 'playful', 'regardless', 'fourth', 'finery', 'rudeness', 'thereby', 'meets', 'belongs', 'memories', 'acquired', 'amount', 'manor', 'doubtful', 'firmest', 'characteristic', 'prettier', 'stiffness', 'knighthood', 'market', 'occupy', 'somehow', 'solidity', 'failing', 'prone', 'quality', 'pack', 'bottle', 'begun', 'impose', 'fixing', 'dark', 'nine', 'mixed', 'appetite', 'enabled', 'ascertain', 'suspecting', 'feature', 'detected', 'playfulness', 'teazed', 'breath', 'genius', 'scotch', 'polished', 'societies', 'requested', 'shake', 'excel', 'archly', 'resistance', 'accosted', 'pair', 'ample', 'deficiency', 'milliner', 'supplied', 'worthless', 'effusions', 'collect', 'smart', 'sparkled', 'compassionate', 'receipt', 'horseback', 'theirs', 'unwell', 'wet', 'illness', 'dirt', 'guided', 'goes', 'crossing', 'springing', 'weary', 'ancles', 'brilliancy', 'favourably', 'feverish', 'apothecary', 'draughts', 'symptoms', 'testified', 'consented', 'acquaint', 'distinguishing', 'restored', 'hide', 'exhibition', 'adventure', 'cheapside', 'indulged', 'mirth', 'expense', 'vulgar', 'loo', 'singular', 'model', 'laying', 'amazing', 'covering', 'dozen', 'range', 'modern', 'substantial', 'bitter', 'inattention', 'paltry', 'employ', 'bears', 'affinity', 'wretchedness', 'housemaid', 'amendment', 'desiring', 'remove', 'trespass', 'acknowledgments', 'vast', 'resolve', 'pitiful', 'intricate', 'estimable', 'expressive', 'mouths', 'envied', 'poetry', 'stout', 'ensued', 'unaffectedly', 'signal', 'tax', 'dinners', 'abruptly', 'shameful', 'departed', 'evenness', 'praises', 'dialogue', 'lot', 'january', 'rule', 'studies', 'careless', 'imaginable', 'leaves', 'rapidly', 'convey', 'deceitful', 'carelessness', 'indirect', 'possessor', 'panegyric', 'precipitance', 'dependant', 'obstinacy', 'discuss', 'thereupon', 'subsisting', 'forgetting', 'indignity', 'reel', 'despising', 'planning', 'holding', 'portraits', 'shape', 'laughingly', 'charmingly', 'spoilt', 'gaily', 'anecdote', 'stretch', 'page', 'yawn', 'cast', 'nicholls', 'soup', 'refreshing', 'awake', 'teaze', 'laughter', 'whims', 'presume', 'pretension', 'resentful', 'shade', 'positively', 'intruding', 'borrow', 'exceeded', 'sign', 'confirming', 'embracing', 'tenderly', 'thread', 'pleases', 'bitterly', 'inheriting', 'filial', 'doubts', 'establish', 'se', 'discourage', 'atonement', 'scarlet', 'precipitate', 'praised', 'eloquent', 'elevated', 'suggest', 'stands', 'shaking', 'marks', 'presented', 'brightest', 'talent', 'arranging', 'assented', 'begging', 'advantageous', 'instruction', 'backgammon', 'apologised', 'guidance', 'originally', 'counteracted', 'retirement', 'reconciliation', 'prepossession', 'doings', 'discomposed', 'recal', 'pretence', 'fortunately', 'entreated', 'correct', 'arrested', 'happening', 'bows', 'throwing', 'loudly', 'awed', 'excess', 'fellows', 'philipses', 'delights', 'cheering', 'apologies', 'admiring', 'included', 'conveyed', 'seats', 'around', 'describing', 'mansion', 'examine', 'creditable', 'fell', 'watchfulness', 'annum', 'infancy', 'astonish', 'deserts', 'blinded', 'plans', 'avoiding', 'usage', 'soul', 'disgracing', 'amply', 'hates', 'induced', 'behave', 'descending', 'malicious', 'revenge', 'unforgiving', 'closest', 'sharing', 'traced', 'tenants', 'relieve', 'brotherly', 'brothers', 'pauses', 'prosperous', 'minded', 'breaking', 'players', 'gathered', 'station', 'intimately', 'unite', 'authoritative', 'class', 'incessantly', 'veracity', 'misrepresented', 'humanity', 'contradict', 'personal', 'disinclination', 'soliciting', 'disrespect', 'assisting', 'vivacity', 'dispute', 'trial', 'suspended', 'trusting', 'answerable', 'surmise', 'destroyed', 'dwell', 'ecstacy', 'cautioning', 'break', 'arranged', 'consulting', 'similarity', 'affirmative', 'hauteur', 'ensure', 'retaining', 'courtesy', 'appeal', 'detaining', 'wandered', 'puzzle', 'sketch', 'breast', 'communications', 'including', 'malice', 'conditionally', 'modest', 'honours', 'plead', 'maintained', 'neglecting', 'guide', 'discouraged', 'discernment', 'gratulation', 'etiquette', 'triumphantly', 'invariably', 'indignant', 'entreaty', 'derision', 'impenetrably', 'innocent', 'compatible', 'offensive', 'duties', 'excused', 'owes', 'acquit', 'loud', 'commended', 'sensibly', 'prevail', 'detached', 'eating', 'whither', 'preparations', 'audience', 'hastening', 'perfections', 'purport', 'singled', 'thirdly', 'foot', 'ere', 'daring', 'qualifications', 'falls', 'custom', 'hitherto', 'undo', 'loveliness', 'rejection', 'females', 'sanctioned', 'deception', 'persisted', 'decisive', 'watch', 'staircase', 'congratulated', 'genuine', 'startled', 'interrupting', 'rejecting', 'liable', 'contribute', 'favours', 'turns', 'mildness', 'earnestness', 'gaiety', 'deserving', 'unconcerned', 'caring', 'effusion', 'presently', 'resignation', 'requesting', 'peevish', 'accompanying', 'double', 'covered', 'intently', 'passages', 'comprised', 'grosvenor', 'returns', 'cease', 'arrive', 'gaieties', 'numerous', 'passage', 'confiding', 'admires', 'footing', 'grand', 'ingenuity', 'alike', 'independent', 'repaid', 'slyness', 'courtship', 'pure', 'joyful', 'expedient', 'irksome', 'provision', 'pleasantest', 'preservative', 'dutifully', 'exercising', 'longing', 'speedy', 'concurrence', 'meditated', 'rated', 'crying', 'commanded', 'reconciled', 'unsuitable', 'worldly', 'humiliating', 'doubting', 'wondering', 'prior', 'vent', 'elapsed', 'tranquil', 'fonder', 'discharging', 'rapturous', 'incensed', 'dishonourable', 'recurring', 'efforts', 'anticipating', 'gloomy', 'novel', 'volumes', 'author', 'printed', 'egerton', 'whitehall', '1813', 'boasted', 'slave', 'inclinations', 'unavailing', 'suppressed', 'whichever', 'inconsistency', 'unaccountable', 'allowance', 'narrow', 'individual', 'intentionally', 'persist', 'perplexity', 'liking', 'statement', 'disappoint', 'canvassed', 'mistakes', 'condemned', 'warehouses', 'subsisted', 'fashions', 'grievances', 'inattentive', 'narrowly', 'affording', 'comparing', 'reputed', 'involve', 'reluctant', 'march', 'correspondent', 'foreseen', 'cheerfully', 'accounted', 'reproached', 'duplicity', 'passion', 'depending', 'rattle', 'absurdities', 'worn', 'noon', 'shyness', 'struggled', 'rallied', 'bearing', 'gain', 'indelicacy', 'directing', 'mountains', 'generality', 'search', 'paling', 'boundary', 'pales', 'neatness', 'displaying', 'gratify', 'sigh', 'involuntarily', 'discern', 'bordered', 'chamber', 'meditate', 'vexatious', 'breathless', 'fronted', 'greatness', 'toilette', 'miraculous', 'ornaments', 'edge', 'informing', 'articles', 'indisposed', 'familiarly', 'older', 'masters', 'neglected', 'strenuously', 'treasure', 'comfortably', 'distinguish', 'edged', 'sheltered', 'lodges', 'nephews', 'consciousness', 'pursued', 'practises', 'performer', 'shock', 'smilingly', 'behaves', 'varying', 'captivating', 'ramble', 'hers', 'disposal', 'earl', 'sons', 'price', 'dropped', 'lasting', 'drily', 'inconveniences', 'unnatural', 'sadly', 'ruined', 'wound', 'partly', 'governed', 'exasperate', 'suffering', 'inflict', 'sufferings', 'remembering', 'repressed', 'ardently', 'obstacles', 'wounding', 'representing', 'conquer', 'duration', 'beloved', 'involving', 'kinder', 'poverty', 'start', 'immoveable', 'painfully', 'inspired', 'gates', 'continuing', 'glimpse', 'instinctively', 'containing', 'dated', 'liberally', 'rise', 'acute', 'observer', 'existing', 'stated', 'conducted', 'yourselves', 'concealment', 'accused', 'discharge', 'school', 'survive', 'pecuniary', 'lieu', 'idleness', 'doubtless', 'obtruded', 'retained', 'previously', 'detection', 'revealed', 'testimony', 'transactions', 'defined', 'oppressed', 'discredit', 'collecting', 'recalled', 'gross', 'weighed', 'scrupled', 'atone', 'pausing', 'alas', 'moderation', 'fainter', 'violation', 'incomprehensible', 'humiliation', 'courted', 'merited', 'unfelt', 'depressed', 'unfit', 'improper', 'john', 'studied', 'unjustly', 'remedy', 'exert', 'restrain', 'irritable', 'affronted', 'prevailing', 'cleared', 'developement', 'gowns', 'exerted', 'disadvantages', 'regretting', 'parcels', 'coachman', 'punctuality', 'ours', 'purchases', 'abused', 'ugly', 'satin', 'coarseness', 'flirting', 'harriet', 'pratt', 'pretended', 'handsomely', 'vague', 'suppress', 'unhappiness', 'stroke', 'wickedness', 'vindication', 'abusive', 'prejudices', 'dreadfully', 'partake', 'injurious', 'sharp', 'grief', 'bathing', 'rapture', 'flew', 'repining', 'fate', 'derive', 'temptations', 'exposed', 'aloof', 'checking', 'teaching', 'flirtation', 'attraction', 'rage', 'censured', 'prey', 'gay', 'crowded', 'consoled', 'renewing', 'serve', 'improves', 'essentials', 'accents', 'misconduct', 'adieus', 'conjugal', 'vanished', 'rightly', 'brain', 'commencement', 'parasol', 'setting', 'northward', 'celebrated', 'rob', 'loving', 'finest', 'chambermaid', 'dove', 'dale', 'perturbation', 'abruptness', 'stone', 'woody', 'banks', 'apprehensions', 'scattered', 'landlord', 'apartments', 'inspection', 'gardener', 'date', 'deepest', 'spots', 'triumphant', 'accustomed', 'slow', 'reproofs', 'brink', 'originated', 'unfavourable', 'curricle', 'livery', 'shy', 'unembarrassed', 'denoted', 'presuming', 'reference', 'saloon', 'variation', 'fruits', 'forwarded', 'injure', 'recommending', 'missent', 'conjectured', 'seized', 'gretna', 'w', 'anxiously', 'barnet', 'precious', 'detain', 'glass', 'intrude', 'meetings', 'termination', 'additional', 'anguish', 'deliberately', 'cares', 'excuses', 'completed', 'space', 'decency', 'guilty', 'expeditiously', 'indolence', 'alive', 'liberality', 'endless', 'thoroughly', 'apparently', 'moderate', 'favourites', 'embraced', 'sanguine', 'fight', 'fretfulness', 'lesson', 'lifted', 'unjustifiable', 'condole', 'fare', 'dilatory', 'striving', 'tradesman', 'essential', 'connect', 'spiritless', 'yielded', 'fairly', 'parade', 'lagged', 'settlement', 'haggerston', 'protection', 'disturbed', 'transports', 'pledged', 'consulted', 'concisely', 'gouldings', 'mortal', 'regulars', 'creditors', 'expressively', 'birds', 'distracted', 'sermon', 'further', 'confidante', 'explicit', 'bold', 'abominate', 'kissed', 'neighbouring', 'shan', 'preservation', 'thoughtfulness', 'winking', 'wink', 'infinite', 'exceed', 'advantageously', 'insincere', 'maternal', 'sphere', 'explanations', 'penetration', 'pleasantry', 'christian', 'forgiveness', 'undergone', 'loves', 'mount', 'storm', 'familiarity', 'special', 'licence', 'warmest', 'rightful', 'morris', 'comers', 'scrupulous', 'vexing', 'sarcastic', 'develope', 'solace', 'disclosed', 'trimming', 'serving', 'coughing', 'coughs', 'emphatic', 'stress', 'adjusting', 'surpassing', 'stoutly', 'tallest', 'attacked', 'barefaced', 'suppositions', 'surmises', 'eluded', 'crown', 'ascertaining', 'black', 'starting', 'comforted', 'mien', 'popularity', 'forbidding', 'proudest', 'scarcity', 'catching', 'wasting', 'quieter', 'fifth', 'sixth', 'boulanger', 'sprained', 'ancle', 'dresses', 'lace', 'exaggeration', 'suiting', 'enduring', 'downs', 'stupider', 'apt', 'censuring', 'candid', 'ostentation', 'pliancy', 'unassailed', 'seminaries', 'associating', 'impressed', 'inherited', 'remainder', 'generation', 'tenant', 'preside', 'endeared', 'ductility', 'risen', 'mayoralty', 'denominated', 'unshackled', 'elated', 'supercilious', 'inoffensive', 'courteous', 'prettiest', 'overhearings', 'hack', 'piqued', 'cherish', 'synonimously', 'foxhounds', 'superciliousness', 'uniform', 'conceals', 'reasonableness', 'vingt', 'un', 'commerce', 'dispositions', 'criticise', 'critical', 'failure', 'symmetry', 'asserting', 'fashionable', 'unaware', 'satirical', 'defied', 'energetic', 'musical', 'performers', 'persevering', 'porridge', 'swell', 'pedantic', 'concerto', 'irish', 'airs', 'exclusion', 'refinements', 'vogue', 'savage', 'performs', 'adept', 'science', 'inconsiderable', 'gallant', 'dislikes', 'reverie', 'annoyed', 'insipidity', 'nothingness', 'strictures', 'inspiring', 'intrepidity', 'jumps', 'flowed', 'default', 'heirs', 'male', 'clerk', 'productive', 'ensign', 'silliest', 'slightingly', 'coincided', 'differ', 'watson', 'clarke', 'footman', 'hating', 'hursts', 'extort', 'prognostics', 'rained', 'sore', 'throat', 'ache', 'dangerous', 'colds', 'stays', 'wives', 'pace', 'jumping', 'stiles', 'puddles', 'stockings', 'glowing', 'justifying', 'slept', 'beside', 'patient', 'ached', 'convert', 'thankfully', 'poured', 'intruder', 'indolent', 'ragout', 'scampering', 'untidy', 'blowsy', 'inches', 'mud', 'brightened', 'fill', 'jot', 'assent', 'asleep', 'despises', 'nursing', 'lying', 'generations', 'buying', 'build', 'sell', 'possibilities', 'imitation', 'taller', 'exquisite', 'paint', 'cover', 'skreens', 'net', 'purses', 'netting', 'purse', 'skreen', 'assistant', 'surpass', 'languages', 'capacity', 'implied', 'undervaluing', 'succeeds', 'device', 'meanness', 'condescend', 'captivation', 'cunning', 'despicable', 'eminent', 'physicians', 'solaced', 'duets', 'profuse', 'suffers', 'exception', 'lease', 'studier', 'unvarying', 'alter', 'victory', 'shops', 'blushing', 'mistook', 'neighbourhoods', 'enable', 'mince', 'pies', 'verses', 'efficacy', 'food', 'healthy', 'nourishes', 'sonnet', 'starve', 'tremble', 'troubling', 'graciousness', 'animal', 'ear', 'witticisms', 'invalid', 'messages', 'piquet', 'needlework', 'perpetual', 'commendations', 'unison', 'pens', 'harp', 'grantley', 'syllables', 'writes', 'blots', 'correspondents', 'disarm', 'prized', 'imperfection', 'laudable', 'undone', 'celerity', 'mounting', 'converting', 'flat', 'rashness', 'atoned', 'adhering', 'requester', 'occurs', 'argued', 'arrange', 'precision', 'appertain', 'aweful', 'expostulation', 'disputes', 'negatived', 'sang', 'italian', 'songs', 'seize', 'overthrowing', 'cheating', 'premeditated', 'archness', 'bewitched', 'disliking', 'compass', 'cure', 'possesses', 'painter', 'lashes', 'copied', 'avenue', 'd', 'picturesque', 'admitting', 'rambled', 'accuracy', 'congratulation', 'diffuseness', 'piling', 'corner', 'petition', 'sophas', 'bracelets', 'rings', 'win', 'exhausted', 'tires', 'yawned', 'insufferably', 'tedious', 'process', 'aimed', 'inflexibly', 'studious', 'desperation', 'attitude', 'chusing', 'interfere', 'surest', 'persevered', 'figures', 'hug', 'inconsistencies', 'divert', 'precisely', 'weaknesses', 'superiority', 'regulation', 'owns', 'vices', 'puffed', 'implacable', 'propensity', 'waking', 'propitious', 'needlessly', 'elevate', 'influencing', 'crushing', 'adhered', 'conscientiously', 'laconic', 'bass', 'morality', 'flogged', 'hinted', 'hardest', 'rail', 'iniquitous', 'westerham', '15th', 'october', 'disagreement', 'heal', 'disrespectful', 'variance', 'ordination', 'bounty', 'beneficence', 'rectory', 'demean', 'rites', 'ceremonies', 'instituted', 'overtures', 'commendable', 'injuring', '18th', 'respectful', 'wisher', 'folded', 'conscientious', 'indulgent', 'christening', 'burying', 'parishioners', 'oddity', 'apologizing', 'reverse', 'servility', 'composition', 'defective', 'fame', 'hearers', 'quarrelled', 'destitute', 'oddly', 'allude', 'hardship', 'cookery', 'asperity', 'cook', 'kitchen', 'shine', 'graciously', 'discourses', 'pool', 'reckoned', 'alterations', 'vouchsafed', 'shelves', 'closets', 'heiress', 'constitution', 'superintended', 'resides', 'condescends', 'prevents', 'british', 'ornament', 'duchess', 'bound', 'suggesting', 'unstudied', 'maintaining', 'resolute', 'dose', 'circulating', 'novels', 'fordyce', 'gaped', 'monotonous', 'pages', 'talks', 'richard', 'hire', 'bid', 'stamp', 'amazes', 'importune', 'antagonist', 'challenge', 'resume', 'illiterate', 'miserly', 'universities', 'subjection', 'consequential', 'veneration', 'mingling', 'rights', 'obsequiousness', 'eligibility', 'strictest', 'seniority', 'amid', 'complaisant', 'stirring', 'treasured', 'graces', 'nominally', 'largest', 'folios', 'cessation', 'prompt', 'nothings', 'assents', 'pavement', 'riding', 'spokesman', 'corroborated', 'seconding', 'fetched', 'lieutenant', 'occupation', 'unwearying', 'defended', 'pointedly', 'although', 'utterly', 'resisted', 'gratification', 'chimney', 'digressions', 'improvements', 'until', 'retail', 'imitations', 'china', 'broad', 'faced', 'stuffy', 'breathing', 'port', 'rainy', 'commonest', 'dullest', 'topic', 'speaker', 'rivals', 'muffin', 'compliance', 'engrossing', 'talker', 'bets', 'prizes', 'demands', 'inquired', 'hesitating', 'anywhere', 'estimated', 'imposing', 'proclaim', 'breathed', 'truest', 'verily', 'topics', 'bequeathed', 'gift', 'godfather', 'heavens', 'disregarded', 'legal', 'redress', 'informality', 'bequest', 'conditional', 'forfeited', 'disgraced', 'irritated', 'inhumanity', 'boasting', 'implacability', 'resentments', 'childhood', 'inmates', 'parental', 'confidential', 'superintendance', 'providing', 'dishonest', 'dishonesty', 'impulses', 'degenerate', 'popular', 'guardian', 'superintends', 'trials', 'reverting', 'conversible', 'equals', 'shillings', 'regarding', 'misleads', 'arrogant', 'dictatorial', 'derives', 'gracefully', 'losses', 'dishes', 'crouded', 'unkindness', 'alienated', 'treating', 'invent', 'facts', 'pictured', 'profess', 'recreation', 'unnecessarily', 'dreading', 'rebuke', 'archbishop', 'venturing', 'timed', 'grace', 'toward', 'succession', 'shoe', 'roses', 'proxy', 'friday', 'endurable', 'cluster', 'coats', 'unreasonably', 'unsubdued', 'omitted', 'unheard', 'injury', 'surmount', 'griefs', 'transition', 'oddities', 'release', 'recommenced', 'couples', 'unsocial', 'taciturn', 'amaze', 'posterity', 'eclat', 'proverb', 'portrait', 'constrained', 'emphasis', 'stopt', 'circles', 'bewitching', 'bright', 'upbraiding', 'compare', 'occupies', 'forgave', 'unappeasable', 'tend', 'suspend', 'implicit', 'using', 'angrily', 'sneer', 'undertaken', 'enemies', 'fairest', 'probity', 'believes', 'unacquainted', 'heighten', 'exultation', 'dissuade', 'scope', 'permit', 'laity', 'regulate', 'clergy', 'clerical', 'dictates', 'profit', 'habitual', 'advances', 'prefaced', 'motion', 'eyeing', 'unrestrained', 'unworthily', 'train', 'animating', 'lastly', 'consign', 'audible', 'inexpressible', 'scolded', 'yawning', 'ham', 'chicken', 'revive', 'exhibiting', 'stanzas', 'agonies', 'signs', 'exhibit', 'devoting', 'tythes', 'beneficial', 'conciliatory', 'omit', 'testifying', 'ridiculing', 'perseveringly', 'arguing', 'project', 'naturedly', 'allusions', 'manoeuvre', 'repulsed', 'languor', 'complimenting', 'guests', 'pressingly', 'settlements', 'eclipsed', 'orderly', 'observances', 'solicit', 'gathering', 'injunction', 'incessant', 'disservice', 'dissemble', 'selecting', 'unasked', 'pools', 'stool', 'gentlewoman', 'reckon', 'inevitably', 'inherit', '4', 'cents', 'wave', 'applies', 'altar', 'disapprove', 'accusing', 'manifold', 'consists', 'tormenting', 'plainer', 'refusals', 'coquetry', 'xx', 'dawdled', 'felicitations', 'bashful', 'persists', 'uproar', 'vows', 'declares', 'rang', 'insists', 'coaxed', 'threatened', 'interfering', 'entreating', 'york', 'maintain', 'undutiful', 'sooth', 'tongues', 'doleful', 'projected', 'withdrawing', 'interpose', 'dismission', 'xxi', 'assiduous', 'transferred', 'seasonable', 'abatement', 'shorten', 'flowing', 'contains', 'flown', 'suddenness', 'gets', 'comfortless', 'hotel', 'croud', 'despair', 'abound', 'brings', 'beaux', 'deprive', 'hurts', 'inspires', 'misleading', 'indulging', 'expressly', 'expects', 'suspects', 'tries', 'intermarriage', 'achieving', 'tells', 'deceiving', 'mature', 'disobliging', 'equivalent', 'faintly', 'suggestion', 'artfully', 'desponding', 'bewailed', 'lamenting', 'xxii', 'conception', 'appearances', 'hasten', 'feet', 'diffident', 'eloquence', 'awaited', 'solicitation', 'waved', 'favoured', 'calculate', 'overjoyed', 'charged', 'evade', 'publish', 'avail', 'bounds', 'regained', 'calmly', 'procure', 'firmness', 'romantic', 'strangeness', 'action', 'sacrificed', 'pang', 'xxiii', 'reflecting', 'boisterously', 'courtier', 'forbearing', 'confirm', 'disbelieving', 'fourthly', 'inferences', 'deduced', 'barbarously', 'appease', 'wear', 'emotions', 'envying', 'retort', 'sour', 'mutually', 'subsist', 'rectitude', 'counting', 'prompted', 'unanswerable', 'troublesome', 'murmurs', 'destructive', 'stability', 'overpowering', 'suspence', 'concealing', 'restrained', 'agony', 'successor', 'complained', 'survivor', 'vicarage', 'joyfully', 'predict', 'inmate', 'designing', 'disinterestedness', 'angelic', 'disclaimed', 'encroaching', 'fewer', 'confirms', 'marries', 'selfishness', 'circumspect', 'deceives', 'designedly', 'attributing', 'scheming', 'impute', 'displease', 'conjunction', 'position', 'unnaturally', 'transient', 'outdone', 'jilt', 'creditably', 'befal', 'dispelling', 'perverse', 'recommendations', 'unreserve', 'extenuating', 'mild', 'pleaded', 'allowances', 'alleviated', 'distribute', 'newest', 'artful', 'thwarted', 'sleeves', 'separates', 'forgets', 'inconstancies', 'hackneyed', 'indefinite', 'essence', 'acquiescence', 'custody', 'ablution', 'cleanse', 'impurities', 'stirs', 'correspond', 'successfully', 'combated', 'suspicious', 'fresher', 'inexhaustible', 'bestowing', 'tribute', 'delighting', 'lad', 'warned', 'forfeit', 'wiser', 'wisdom', 'foresaw', 'bridegroom', 'slacken', 'surrounded', 'roads', 'inventing', 'shortness', 'triumphing', 'singling', 'deservedly', 'harshly', 'invariable', 'duped', 'subsided', 'watchful', 'permitted', 'acquisition', 'rendering', 'sighted', 'relinquish', 'elevating', 'effectual', 'distractedly', 'defection', 'diversified', 'february', 'weakened', 'uncompanionable', 'faultless', 'peep', 'smoothly', 'reminding', 'coincide', 'empty', 'headed', 'healthful', 'troop', 'bustle', 'shopping', 'theatres', 'periods', 'conversations', 'occurring', 'desertion', 'matrimonial', 'avarice', 'grandfather', 'allowable', 'decorums', 'savours', 'rapturously', 'vigour', 'spleen', 'rocks', 'transport', 'accurate', 'rivers', 'jumbled', 'imaginations', 'discernible', 'sloping', 'laurel', 'hedge', 'arriving', 'nods', 'ostentatious', 'glory', 'neat', 'repentance', 'unseldom', 'faint', 'sideboard', 'fender', 'stroll', 'cultivation', 'healthfulness', 'minuteness', 'fields', 'clump', 'meadows', 'shoes', 'frost', 'consistency', 'ensuing', 'include', 'regularly', 'guiding', 'anticipate', 'tenor', 'interruptions', 'landing', 'pigs', 'wind', 'doorway', 'bowing', 'acquire', 'instructing', 'overpower', 'separating', 'apparel', 'simply', 'objected', 'inspire', 'enumeration', 'glazing', 'awful', 'stateliness', 'trepidation', 'anti', 'conciliating', 'deportment', 'insignificant', 'screen', 'plate', 'foretold', 'bottom', 'carved', 'echo', 'delivering', 'controverted', 'regulated', 'instructed', 'cows', 'dictating', 'maiden', 'entailing', 'webbs', 'supplying', 'metcalfe', 'finds', 'pope', 'cassino', 'superlatively', 'storing', 'anecdotes', 'played', 'thankfulness', 'costing', 'possessing', 'gig', 'backwards', 'sized', 'unfrequently', 'livings', 'negligence', 'joints', 'magistrate', 'minutest', 'cottagers', 'quarrelsome', 'sallied', 'differences', 'scold', 'harmony', 'plenty', 'counterpart', 'disclaim', 'curtseyed', 'conversed', 'proficient', 'proficiency', 'practise', 'arch', 'frighten', 'stubbornness', 'rises', 'intimidate', 'professing', 'impolitic', 'retaliate', 'scarce', 'masterly', 'practising', 'amiss', 'practised', 'fingering', 'derived', 'mixing', 'emergence', 'prudential', 'unimportant', 'journeys', 'local', 'newspaper', 'colder', 'concise', 'sports', 'billiard', 'nearness', 'separately', 'softness', 'disputable', 'steadfast', 'gaze', 'vanish', 'counterbalance', 'mischance', 'haunt', 'penance', 'rencontre', 'imply', 'perusing', 'forcing', 'arranges', 'feelingly', 'inured', 'hardships', 'guardians', 'tractable', 'prodigious', 'scrape', 'swelling', 'thoughtful', 'lessening', 'jestingly', 'exist', 'boundless', 'mislead', 'inflicted', 'peculiarities', 'headache', 'complaint', 'revival', 'characterize', 'clouded', 'conveying', 'keener', 'fluttered', 'imputing', 'detailed', 'degradation', 'rooted', 'subsequent', 'unequally', 'overcoming', 'leaning', 'disturbance', 'struggling', 'attained', 'insulting', 'provocations', 'ruining', 'dividing', 'instability', 'acutest', 'unmoved', 'remorse', 'assumed', 'denying', 'noticing', 'conciliate', 'misrepresentation', 'contemptuously', 'infliction', 'desert', 'calculation', 'honest', 'policy', 'impelled', 'unqualified', 'unalloyed', 'obvious', 'mingled', 'impressing', 'fullest', 'arrogance', 'shameless', 'acknowledging', 'agitating', 'awoke', 'meditations', 'turnpike', 'verdure', 'retreating', 'stepping', 'plantation', 'strongest', 'sheets', 'disgusting', 'paining', 'humbling', 'formation', 'magnitude', 'blasted', 'wantonly', 'depravity', 'growth', 'severity', 'undecided', 'scrutiny', 'participation', 'misled', 'investigations', 'decisions', 'influenced', 'repugnance', 'coincidence', 'detaching', 'enforced', 'remonstrance', 'staggered', 'ultimately', 'seconded', 'extinguished', 'unknowingly', 'weighty', 'accusation', 'refute', 'summon', 'undoubted', 'cambridge', 'vicious', 'propensities', 'opportunities', 'unfolding', 'advancement', 'legacy', 'therein', 'accede', 'dissolved', 'dissipation', 'unprofitable', 'ordained', 'revered', 'resisting', 'reproaches', 'unfold', 'junior', 'presided', 'connivance', 'aid', 'grieving', 'exposure', 'unquestionably', 'revenging', 'narrative', 'henceforth', 'executors', 'unavoidably', 'valueless', 'contrariety', 'comprehension', 'penitent', 'insolence', 'clearer', 'overthrow', 'definition', 'grossest', 'perturbed', 'resigning', 'impartiality', 'deliberated', 'blameless', 'profligacy', 'trait', 'rescue', 'predominance', 'casual', 'befriended', 'social', 'mess', 'referred', 'hazarded', 'corroboration', 'avoided', 'hatefully', 'mediocrity', 'grasp', 'incautiously', 'lingering', 'struggle', 'justification', 'asserted', 'blamelessness', 'repulsive', 'latterly', 'unprincipled', 'irreligious', 'immoral', 'prejudiced', 'despicably', 'prided', 'blameable', 'wretchedly', 'unsuspicious', 'fervent', 'soothed', 'probabilities', 'reconciling', 'repressing', 'missing', 'obeisance', 'importing', 'diminution', 'increases', 'dawson', 'barouche', 'box', 'abide', 'discreditable', 'bromley', 'upbraided', 'repent', 'heavier', 'chagrin', 'giddiness', 'spirited', 'willed', 'restoring', 'implicitness', 'replete', 'indecorum', 'packing', 'trunk', 'afresh', 'deemed', 'indispensably', 'domestics', 'unpleasantly', 'disagreeably', 'abiding', 'sharers', 'elevation', 'sentences', 'firmly', 'sprung', 'dependent', 'trunks', 'fastened', 'commissioning', 'consternation', 'drinking', 'revealing', 'conquered', 'indecision', 'appointed', 'token', 'sentinel', 'sallad', 'cucumber', 'welcoming', 'larder', 'affords', 'lend', 'pull', 'uglier', 'trim', 'wears', 'encamped', 'delicious', 'campful', 'soldiers', 'overset', 'monthly', 'hears', 'chin', 'liverpool', 'straws', 'nasty', 'freckled', 'harboured', 'boxes', 'workbags', 'nicely', 'crammed', 'bandbox', 'snug', 'chaperon', 'harringtons', 'chamberlayne', 'col', 'histories', 'jokes', 'additions', 'escaping', 'undiminished', 'doubly', 'retailing', 'louder', 'blinds', 'nicest', 'luncheon', 'depreciate', 'congenial', 'answers', 'equivocal', 'disheartened', 'lessened', 'race', 'mankind', 'labour', 'quantity', 'shifting', 'extorted', 'profusion', 'feather', 'mismanagement', 'spur', 'stumbling', 'witty', 'undeserved', 'undeceive', 'sometime', 'hence', 'allayed', 'secrets', 'lurking', 'forbad', 'disclosure', 'incumbrance', 'mystery', 'steadiness', 'attachments', 'fervently', 'requisite', 'chooses', 'manager', 'outrun', 'lawfully', 'drooping', 'apace', 'heartedness', 'exclaim', 'woe', 'millar', 'sea', 'resounding', 'anew', 'adoration', 'restless', 'luckless', 'exciting', 'warrant', 'detestable', 'advising', 'improprieties', 'squeamish', 'youths', 'absurdity', 'injuries', 'complaining', 'volatility', 'exuberant', 'pursuits', 'meanest', 'emptiness', 'ward', 'uncontrouled', 'degrees', 'authorizing', 'lock', 'content', 'vexations', 'unavoidable', 'augment', 'volubility', 'earthly', 'creative', 'streets', 'tens', 'scores', 'glories', 'tents', 'stretched', 'beauteous', 'uniformity', 'dazzling', 'tent', 'realities', 'agitations', 'detect', 'sameness', 'gayer', 'apprehensive', 'gentlest', 'deter', 'foul', 'cautiousness', 'alluding', 'adopted', 'operated', 'forwarding', 'repress', 'pathetic', 'shed', 'weep', 'diffuse', 'impressive', 'injunctions', 'clamorous', 'captivated', 'illiberal', 'tastes', 'enjoyments', 'contributed', 'philosopher', 'enlarging', 'repinings', 'dulness', 'regain', 'disturbers', 'apprehended', 'hardened', 'watering', 'anticipation', 'discontentedness', 'ceaseless', 'realized', 'warded', 'everything', 'querulous', 'war', 'curtailed', 'july', 'substitute', 'chatsworth', 'dovedale', 'peak', 'impunity', 'petrified', 'spars', 'doubled', 'enhance', 'disappointments', 'oxford', 'blenheim', 'warwick', 'kenelworth', 'birmingham', 'carpets', 'curtains', 'richly', 'furnished', 'acquiesce', 'resource', 'unfavourably', 'alarms', 'lowest', 'stretching', 'top', 'eminence', 'backed', 'ridge', 'swelled', 'artificial', 'falsely', 'elderly', 'proportioned', 'surveying', 'crowned', 'winding', 'positions', 'lofty', 'gaudy', 'uselessly', 'splendor', 'intimation', 'plays', 'sings', 'communicativeness', 'hearted', 'affable', 'pictures', 'dimensions', 'merits', 'whispered', 'spacious', 'lobby', 'lightness', 'paintings', 'drawings', 'crayons', 'canvas', 'consigned', 'stables', 'yards', 'abrupt', 'sedateness', 'distraction', 'discrimination', 'alighted', 'strikingly', 'rosing', 'nobler', 'mechanically', 'appeals', 'wander', 'overspreading', 'circuit', 'hanging', 'narrowest', 'simple', 'glen', 'rough', 'coppice', 'explore', 'windings', 'trout', 'imitate', 'mischievously', 'construed', 'unprepared', 'revolted', 'named', 'stole', 'decamping', 'connexion', 'sustained', 'fortitude', 'gloried', 'tackle', 'resuming', 'plant', 'chanced', 'inadequate', 'bakewell', 'acceded', 'outstripped', 'embargo', 'unbecoming', 'whimsical', 'mouth', 'flaming', 'comprehends', 'construction', 'naming', 'relied', 'environs', 'satisfactions', 'discontinuance', 'recognising', 'imparted', 'acquainting', 'newly', 'heads', 'disquiet', 'commonly', 'retreated', 'monosyllable', 'scale', 'womanly', 'graceful', 'discerning', 'barely', 'personage', 'overflowing', 'prepossessed', 'rival', 'interpretation', 'untinctured', '26th', 'unattended', 'temporary', 'outlived', 'courting', 'unbending', 'invitations', 'avoidance', 'construing', 'untouched', 'recognised', 'indicated', 'imperfectly', 'hatred', 'repugnant', 'friendlier', 'petulance', 'acrimony', 'enemy', 'indelicate', 'peculiarity', 'selves', 'ardent', 'unpleasing', 'possessed', 'imitated', 'equalled', 'oaks', 'spanish', 'chesnuts', 'intermediate', 'closely', 'employing', 'brevity', 'cake', 'pyramids', 'grapes', 'nectarines', 'peaches', 'deciding', 'predominate', 'learning', 'sneering', 'uppermost', 'exerting', 'vigorously', 'repel', 'involuntary', 'refrained', 'discompose', 'secresy', 'venting', 'criticisms', 'brown', 'coarse', 'tanned', 'rejoined', 'nose', 'teeth', 'shrewish', 'sufficiency', 'nettled', 'mostly', 'fruit', 'indiscreet', 'finishing', 'bewildered', 'coherent', 'b', 'turnpikes', 'inns', 'hatfield', 'kindest', 'safest', 'exigence', 'rely', 'darting', 'losing', 'impetuous', 'superseded', 'knees', 'trembled', 'commissioned', 'unintelligible', 'miserably', 'commiseration', 'indistinctly', 'eloped', 'horrible', 'acquiesence', 'meditation', 'brow', 'consolatory', 'bosom', 'palliation', 'engross', 'swallowed', 'handkerchief', 'torment', 'apologize', 'calls', 'retrospective', 'contradictions', 'varieties', 'sighed', 'promoted', 'foundations', 'exchanged', 'authorise', 'fluctuating', 'deranged', 'satisfying', 'trembling', 'actuated', 'disclose', 'notes', 'shorter', 'unprotected', 'friendless', 'adequate', 'brightening', 'traces', 'exceptionable', 'abundant', 'economically', 'forego', 'benefiting', 'dispose', 'susceptibility', 'captivate', 'profligate', 'insinuating', 'lies', 'unpretending', 'ensue', 'perceptible', 'forgetfulness', 'travelled', 'sleeping', 'wearied', 'lighted', 'bodies', 'capers', 'frisks', 'jumped', 'kiss', 'filled', 'fugitives', 'safety', 'alternate', 'deserted', 'proceedings', 'invectives', 'villanous', 'forsters', 'ruled', 'terrific', 'fighting', 'wits', 'tremblings', 'flutterings', 'spasms', 'beatings', 'seclusion', 'household', 'incurred', 'stem', 'pour', 'bosoms', 'balm', 'irretrievable', 'involves', 'brittle', 'extractions', 'availed', 'sequel', 'brains', 'sally', 'slit', 'packed', 'belonging', 'hysterics', 'faculties', 'repose', 'services', 'stayed', 'condolence', 'insufferable', 'postilions', 'remarked', 'negligent', 'duel', 'serviceable', 'heartening', 'reporting', 'irregularity', 'dispirited', 'blacken', 'intrigues', 'title', 'seduction', 'wickedest', 'distrusted', 'hotels', 'disinclined', 'intimates', 'clue', 'curiosities', 'affliction', 'sympathise', 'bitterest', 'alleviate', 'afflicting', 'parent', 'lamented', 'informs', 'licentiousness', 'enormity', 'howsoever', 'grievously', 'apprehending', 'fortunes', 'condescendingly', 'augmented', 'reap', 'heinous', 'finances', 'transpired', 'gaming', 'gamester', 'stage', 'lowness', 'sleepless', 'philosophic', 'cap', 'powdering', 'runs', 'east', 'bourne', 'prohibited', 'stir', 'threats', 'cry', 'concluding', 'thence', 'butler', 'panting', 'august', '2', 'conditions', 'diligence', 'explicitly', 'edw', 'farthing', 'clearing', 'sixpence', 'requited', 'consenting', 'preparation', 'exuberance', 'fidgetty', 'sounds', 'dictate', 'calico', 'cambric', 'dictated', 'plentiful', 'airing', 'bowl', 'punch', 'refuge', 'annual', 'survived', 'britain', 'rested', 'cutting', 'successively', 'exceeding', 'proportions', 'acceding', 'fulfil', 'loser', 'board', 'undertaking', 'proportionate', 'speed', 'secluded', 'spiteful', 'oppressively', 'damp', 'attendants', 'muslins', 'searching', 'haye', 'stoke', 'ashworth', 'purvis', 'attics', 'admittance', 'guinea', 'inconceivable', 'valid', 'eloping', 'spreading', 'confidently', 'frailty', 'individually', 'gulf', 'impassable', 'scorned', 'shrink', 'blow', 'repented', 'proudly', 'spurned', 'gladly', 'multitude', 'connubial', 'precluding', 'permanent', 'passions', 'intreaties', 'ensigncy', 'arrangements', 'payment', 'subjoin', 'south', 'begs', 'e', 'residing', 'mildly', 'culprit', 'endure', 'decked', 'stepped', 'forwards', 'austerity', 'untamed', 'unabashed', 'fearless', 'demanding', 'limits', 'impudent', 'caused', 'replies', 'abouts', 'overtook', 'goulding', 'glove', 'frame', 'housemaids', 'regretted', 'elope', 'kill', 'september', 'managed', 'clement', 'eleven', 'fuss', 'breakfasted', 'll', 'theatre', 'faithfully', 'burning', 'noblest', 'seizing', 'cogent', 'tricks', 'stratagems', 'benches', 'sept', '6', 'devote', 'foresee', 'comprise', 'racked', 'hunting', 'worthlessness', 'confide', 'generously', 'edward', 'bribery', 'corruption', 'insisted', 'expedite', 'consequences', 'resign', 'postponed', 'battled', 'sorely', 'grain', 'borrowed', 'feathers', 'amounting', 'admission', 'prudently', 'exclude', 'p', 'uncertainty', 'attendant', 'research', 'supplication', 'bribe', 'considerations', 'revolt', 'saucy', 'overtaken', 'strangely', 'biting', 'silenced', 'kympton', 'palatable', 'compromised', 'simpers', 'smirks', 'forlorn', 'fidgets', 'latest', 'butcher', 'ducks', 'wavered', 'legally', 'hired', 'speculation', 'errand', 'thirteen', 'sufferer', 'counted', 'intervene', 'vow', 'explanatory', 'undervalued', 'benefits', 'witnessing', 'lustre', 'unshaken', 'paler', 'sedate', 'contrasted', 'irremediable', 'changes', 'papers', 'courier', 'esq', 'levelled', 'vastly', 'covies', 'compensation', 'kindled', 'chatty', 'mindful', 'deaden', 'dines', 'sportsmen', 'forbore', 'sanction', 'ungraciousness', 'enabling', 'wearisome', 'pouring', 'confederacy', 'vacancy', 'closer', 'enraged', 'protest', 'abhorrent', 'cup', 'scarborough', 'victim', 'rapacity', 'unsuccessfully', 'venison', 'roasted', 'fat', 'haunch', 'partridges', 'french', 'cooks', 'mortifies', 'instruct', 'sarah', 'forwarder', 'hang', 'sash', 'innocently', 'waste', 'premeditation', 'upstairs', 'ineffectual', 'officiousness', 'appointment', 'communicative', 'eccentric', 'invention', 'counteract', 'hearth', 'basis', 'super', 'simpered', 'tempers', 'cheat', 'sha', 'nt', 'dispense', 'petitioned', 'barbarous', 'detested', 'vex', 'dupe', 'forgiving', 'forty', 'shift', 'luckiest', 'equipage', 'preceded', 'confinement', 'stiffly', 'west', 'puzzled', 'prettyish', 'wilderness', 'hermitage', 'pronouncing', 'survey', 'trifled', 'contradicted', 'industriously', 'circulated', 'retains', 'allurements', 'infatuation', 'aspire', 'cradles', 'unallied', 'tacit', 'completion', 'dissuaded', 'brooking', 'ancient', 'untitled', 'member', 'respective', 'upstart', 'aunts', 'recede', 'intimidated', 'persuasions', 'importuned', 'patched', 'earth', 'shades', 'polluted', 'insulted', 'constitute', 'obey', 'violated', 'scorn', 'final', 'ambition', 'originate', 'revolving', 'persisting', 'miseries', 'weakest', 'solid', 'reasoning', 'wavering', 'unblemished', 'constancy', 'obligingly', 'appeased', 'dismay', 'consequent', 'rushed', 'instantaneous', 'undetermined', 'sagacity', 'gossiping', 'advertised', 'presumed', 'illustrious', 'personages', 'land', 'kindred', 'incur', 'closure', 'pitched', 'lie', 'blemish', 'termed', 'speediest', 'hushed', 'declaring', 'missish', 'hypocrisy', 'outstrip', 'boldly', 'executed', 'unexampled', 'mortifications', 'discovering', 'inducements', 'april', 'unchanged', 'fluently', 'diffused', 'proving', 'emphatically', 'contrariwise', 'irrevocably', 'frankly', 'premises', 'severest', 'annexed', 'strictly', 'irreproachable', 'inexpressibly', 'tortured', 'devoid', 'burnt', 'unalterable', 'implies', 'charity', 'retrospections', 'void', 'repelled', 'principles', 'benevolent', 'overbearing', 'loveliest', 'blamed', 'leisurely', 'busy', 'watches', 'term', 'unabated', 'forgiven', 'laught', 'unmarked', 'unacknowledged', 'overflows', 'joking', 'doubtingly', 'shooting', 'disturb', 'epithet', 'lanes', 'hereabouts', 'oakham', 'wont', 'vehemence', 'filling', 'disposing', 'gradual', 'test', 'reconcile', 'rant', 'tranquilly', 'backward', 'fidget', 'pin', 'jewels', 'omen', 'withstood', 'assiduously', 'exaggerate', 'springs', 'befall', 'detail', 'loose', 'sends', 'sending', 'blown', 'parading', 'obsequious', 'jewel', 'shrug', 'shoulders', 'vulgarity', 'shield', 'relished', 'unusual', 'vicinity', 'darling', 'ungovernable', 'insipid', 'mix', 'moralize', 'comparisons', 'submitted', 'reluctance', 'revolution', 'ingratitude', 'congratulatory', 'heedless', 'bills', 'cheap', 'bath', 'retain', 'heretofore', 'arrear', 'sportive', 'liberties', 'pollution', 'city', 'uniting']\n"
     ]
    }
   ],
   "source": [
    "def most_common(hist, num=10):\n",
    "\n",
    "    t = sorted(hist.items(), key=lambda item:item[1], reverse=True)\n",
    "    \n",
    "    most_common_words = []\n",
    "    \n",
    "    for word, freq in t:\n",
    "        most_common_words.append(word)\n",
    "\n",
    "    return most_common_words\n",
    "\n",
    "print('Most common words:', most_common(hist))"
   ]
  }
 ],
 "metadata": {
  "kernelspec": {
   "display_name": "Python 3",
   "language": "python",
   "name": "python3"
  },
  "language_info": {
   "codemirror_mode": {
    "name": "ipython",
    "version": 3
   },
   "file_extension": ".py",
   "mimetype": "text/x-python",
   "name": "python",
   "nbconvert_exporter": "python",
   "pygments_lexer": "ipython3",
   "version": "3.6.9"
  }
 },
 "nbformat": 4,
 "nbformat_minor": 1
}
